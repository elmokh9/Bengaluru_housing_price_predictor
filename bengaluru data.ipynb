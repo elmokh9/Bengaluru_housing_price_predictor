{
 "cells": [
  {
   "cell_type": "code",
   "execution_count": 20,
   "id": "3d7a81e5",
   "metadata": {},
   "outputs": [],
   "source": [
    "import pandas as pd\n",
    "import  numpy as np\n",
    "from matplotlib import pyplot as plt\n",
    "%matplotlib inline"
   ]
  },
  {
   "cell_type": "code",
   "execution_count": 21,
   "id": "2f9f0465",
   "metadata": {},
   "outputs": [
    {
     "data": {
      "text/html": [
       "<div>\n",
       "<style scoped>\n",
       "    .dataframe tbody tr th:only-of-type {\n",
       "        vertical-align: middle;\n",
       "    }\n",
       "\n",
       "    .dataframe tbody tr th {\n",
       "        vertical-align: top;\n",
       "    }\n",
       "\n",
       "    .dataframe thead th {\n",
       "        text-align: right;\n",
       "    }\n",
       "</style>\n",
       "<table border=\"1\" class=\"dataframe\">\n",
       "  <thead>\n",
       "    <tr style=\"text-align: right;\">\n",
       "      <th></th>\n",
       "      <th>area_type</th>\n",
       "      <th>availability</th>\n",
       "      <th>location</th>\n",
       "      <th>size</th>\n",
       "      <th>society</th>\n",
       "      <th>total_sqft</th>\n",
       "      <th>bath</th>\n",
       "      <th>balcony</th>\n",
       "      <th>price</th>\n",
       "    </tr>\n",
       "  </thead>\n",
       "  <tbody>\n",
       "    <tr>\n",
       "      <th>0</th>\n",
       "      <td>Super built-up  Area</td>\n",
       "      <td>19-Dec</td>\n",
       "      <td>Electronic City Phase II</td>\n",
       "      <td>2 BHK</td>\n",
       "      <td>Coomee</td>\n",
       "      <td>1056</td>\n",
       "      <td>2.0</td>\n",
       "      <td>1.0</td>\n",
       "      <td>39.07</td>\n",
       "    </tr>\n",
       "    <tr>\n",
       "      <th>1</th>\n",
       "      <td>Plot  Area</td>\n",
       "      <td>Ready To Move</td>\n",
       "      <td>Chikka Tirupathi</td>\n",
       "      <td>4 Bedroom</td>\n",
       "      <td>Theanmp</td>\n",
       "      <td>2600</td>\n",
       "      <td>5.0</td>\n",
       "      <td>3.0</td>\n",
       "      <td>120.00</td>\n",
       "    </tr>\n",
       "    <tr>\n",
       "      <th>2</th>\n",
       "      <td>Built-up  Area</td>\n",
       "      <td>Ready To Move</td>\n",
       "      <td>Uttarahalli</td>\n",
       "      <td>3 BHK</td>\n",
       "      <td>NaN</td>\n",
       "      <td>1440</td>\n",
       "      <td>2.0</td>\n",
       "      <td>3.0</td>\n",
       "      <td>62.00</td>\n",
       "    </tr>\n",
       "    <tr>\n",
       "      <th>3</th>\n",
       "      <td>Super built-up  Area</td>\n",
       "      <td>Ready To Move</td>\n",
       "      <td>Lingadheeranahalli</td>\n",
       "      <td>3 BHK</td>\n",
       "      <td>Soiewre</td>\n",
       "      <td>1521</td>\n",
       "      <td>3.0</td>\n",
       "      <td>1.0</td>\n",
       "      <td>95.00</td>\n",
       "    </tr>\n",
       "    <tr>\n",
       "      <th>4</th>\n",
       "      <td>Super built-up  Area</td>\n",
       "      <td>Ready To Move</td>\n",
       "      <td>Kothanur</td>\n",
       "      <td>2 BHK</td>\n",
       "      <td>NaN</td>\n",
       "      <td>1200</td>\n",
       "      <td>2.0</td>\n",
       "      <td>1.0</td>\n",
       "      <td>51.00</td>\n",
       "    </tr>\n",
       "  </tbody>\n",
       "</table>\n",
       "</div>"
      ],
      "text/plain": [
       "              area_type   availability                  location       size  \\\n",
       "0  Super built-up  Area         19-Dec  Electronic City Phase II      2 BHK   \n",
       "1            Plot  Area  Ready To Move          Chikka Tirupathi  4 Bedroom   \n",
       "2        Built-up  Area  Ready To Move               Uttarahalli      3 BHK   \n",
       "3  Super built-up  Area  Ready To Move        Lingadheeranahalli      3 BHK   \n",
       "4  Super built-up  Area  Ready To Move                  Kothanur      2 BHK   \n",
       "\n",
       "   society total_sqft  bath  balcony   price  \n",
       "0  Coomee        1056   2.0      1.0   39.07  \n",
       "1  Theanmp       2600   5.0      3.0  120.00  \n",
       "2      NaN       1440   2.0      3.0   62.00  \n",
       "3  Soiewre       1521   3.0      1.0   95.00  \n",
       "4      NaN       1200   2.0      1.0   51.00  "
      ]
     },
     "execution_count": 21,
     "metadata": {},
     "output_type": "execute_result"
    }
   ],
   "source": [
    "df1 = pd.read_csv('Bengaluru_House_Data.csv')\n",
    "df1.head()"
   ]
  },
  {
   "cell_type": "code",
   "execution_count": 22,
   "id": "a5e9ab21",
   "metadata": {},
   "outputs": [
    {
     "data": {
      "text/plain": [
       "(13320, 9)"
      ]
     },
     "execution_count": 22,
     "metadata": {},
     "output_type": "execute_result"
    }
   ],
   "source": [
    "df1.shape"
   ]
  },
  {
   "cell_type": "code",
   "execution_count": 23,
   "id": "5dd3add4",
   "metadata": {},
   "outputs": [
    {
     "data": {
      "text/plain": [
       "area_type\n",
       "Built-up  Area          2418\n",
       "Carpet  Area              87\n",
       "Plot  Area              2025\n",
       "Super built-up  Area    8790\n",
       "Name: area_type, dtype: int64"
      ]
     },
     "execution_count": 23,
     "metadata": {},
     "output_type": "execute_result"
    }
   ],
   "source": [
    "df1.groupby('area_type')['area_type'].count()"
   ]
  },
  {
   "cell_type": "code",
   "execution_count": 24,
   "id": "73259514",
   "metadata": {},
   "outputs": [],
   "source": [
    "df1 = df1.drop(['area_type', 'availability', 'society', 'balcony'], axis = 1)"
   ]
  },
  {
   "cell_type": "code",
   "execution_count": 25,
   "id": "a233fd58",
   "metadata": {},
   "outputs": [],
   "source": [
    "#data cleaning"
   ]
  },
  {
   "cell_type": "code",
   "execution_count": 26,
   "id": "97d09a9b",
   "metadata": {},
   "outputs": [
    {
     "data": {
      "text/plain": [
       "location       1\n",
       "size          16\n",
       "total_sqft     0\n",
       "bath          73\n",
       "price          0\n",
       "dtype: int64"
      ]
     },
     "execution_count": 26,
     "metadata": {},
     "output_type": "execute_result"
    }
   ],
   "source": [
    "df1.isnull().sum()"
   ]
  },
  {
   "cell_type": "code",
   "execution_count": 27,
   "id": "6e5b3cc7",
   "metadata": {},
   "outputs": [
    {
     "data": {
      "text/plain": [
       "location      0\n",
       "size          0\n",
       "total_sqft    0\n",
       "bath          0\n",
       "price         0\n",
       "dtype: int64"
      ]
     },
     "execution_count": 27,
     "metadata": {},
     "output_type": "execute_result"
    }
   ],
   "source": [
    "#instead of dropping na values we can take median and fill it, but since 73 is <<<133320\n",
    "df1 = df1.dropna()\n",
    "df1.isnull().sum()"
   ]
  },
  {
   "cell_type": "code",
   "execution_count": 28,
   "id": "b6083920",
   "metadata": {},
   "outputs": [
    {
     "data": {
      "text/plain": [
       "(13246, 5)"
      ]
     },
     "execution_count": 28,
     "metadata": {},
     "output_type": "execute_result"
    }
   ],
   "source": [
    "df1.shape"
   ]
  },
  {
   "cell_type": "code",
   "execution_count": 29,
   "id": "e5c41bf3",
   "metadata": {},
   "outputs": [
    {
     "data": {
      "text/plain": [
       "array(['2 BHK', '4 Bedroom', '3 BHK', '4 BHK', '6 Bedroom', '3 Bedroom',\n",
       "       '1 BHK', '1 RK', '1 Bedroom', '8 Bedroom', '2 Bedroom',\n",
       "       '7 Bedroom', '5 BHK', '7 BHK', '6 BHK', '5 Bedroom', '11 BHK',\n",
       "       '9 BHK', '9 Bedroom', '27 BHK', '10 Bedroom', '11 Bedroom',\n",
       "       '10 BHK', '19 BHK', '16 BHK', '43 Bedroom', '14 BHK', '8 BHK',\n",
       "       '12 Bedroom', '13 BHK', '18 Bedroom'], dtype=object)"
      ]
     },
     "execution_count": 29,
     "metadata": {},
     "output_type": "execute_result"
    }
   ],
   "source": [
    "df1['size'].unique()"
   ]
  },
  {
   "cell_type": "code",
   "execution_count": 30,
   "id": "a218a75a",
   "metadata": {},
   "outputs": [
    {
     "data": {
      "text/html": [
       "<div>\n",
       "<style scoped>\n",
       "    .dataframe tbody tr th:only-of-type {\n",
       "        vertical-align: middle;\n",
       "    }\n",
       "\n",
       "    .dataframe tbody tr th {\n",
       "        vertical-align: top;\n",
       "    }\n",
       "\n",
       "    .dataframe thead th {\n",
       "        text-align: right;\n",
       "    }\n",
       "</style>\n",
       "<table border=\"1\" class=\"dataframe\">\n",
       "  <thead>\n",
       "    <tr style=\"text-align: right;\">\n",
       "      <th></th>\n",
       "      <th>location</th>\n",
       "      <th>size</th>\n",
       "      <th>total_sqft</th>\n",
       "      <th>bath</th>\n",
       "      <th>price</th>\n",
       "      <th>BHK</th>\n",
       "    </tr>\n",
       "  </thead>\n",
       "  <tbody>\n",
       "    <tr>\n",
       "      <th>0</th>\n",
       "      <td>Electronic City Phase II</td>\n",
       "      <td>2 BHK</td>\n",
       "      <td>1056</td>\n",
       "      <td>2.0</td>\n",
       "      <td>39.07</td>\n",
       "      <td>2</td>\n",
       "    </tr>\n",
       "    <tr>\n",
       "      <th>1</th>\n",
       "      <td>Chikka Tirupathi</td>\n",
       "      <td>4 Bedroom</td>\n",
       "      <td>2600</td>\n",
       "      <td>5.0</td>\n",
       "      <td>120.00</td>\n",
       "      <td>4</td>\n",
       "    </tr>\n",
       "    <tr>\n",
       "      <th>2</th>\n",
       "      <td>Uttarahalli</td>\n",
       "      <td>3 BHK</td>\n",
       "      <td>1440</td>\n",
       "      <td>2.0</td>\n",
       "      <td>62.00</td>\n",
       "      <td>3</td>\n",
       "    </tr>\n",
       "    <tr>\n",
       "      <th>3</th>\n",
       "      <td>Lingadheeranahalli</td>\n",
       "      <td>3 BHK</td>\n",
       "      <td>1521</td>\n",
       "      <td>3.0</td>\n",
       "      <td>95.00</td>\n",
       "      <td>3</td>\n",
       "    </tr>\n",
       "    <tr>\n",
       "      <th>4</th>\n",
       "      <td>Kothanur</td>\n",
       "      <td>2 BHK</td>\n",
       "      <td>1200</td>\n",
       "      <td>2.0</td>\n",
       "      <td>51.00</td>\n",
       "      <td>2</td>\n",
       "    </tr>\n",
       "  </tbody>\n",
       "</table>\n",
       "</div>"
      ],
      "text/plain": [
       "                   location       size total_sqft  bath   price  BHK\n",
       "0  Electronic City Phase II      2 BHK       1056   2.0   39.07    2\n",
       "1          Chikka Tirupathi  4 Bedroom       2600   5.0  120.00    4\n",
       "2               Uttarahalli      3 BHK       1440   2.0   62.00    3\n",
       "3        Lingadheeranahalli      3 BHK       1521   3.0   95.00    3\n",
       "4                  Kothanur      2 BHK       1200   2.0   51.00    2"
      ]
     },
     "execution_count": 30,
     "metadata": {},
     "output_type": "execute_result"
    }
   ],
   "source": [
    "df1['BHK'] = df1['size'].apply(lambda x: int(x.split(\" \")[0]))\n",
    "df1.head()"
   ]
  },
  {
   "cell_type": "code",
   "execution_count": 31,
   "id": "c64a3a29",
   "metadata": {},
   "outputs": [
    {
     "data": {
      "text/plain": [
       "array([ 2,  4,  3,  6,  1,  8,  7,  5, 11,  9, 27, 10, 19, 16, 43, 14, 12,\n",
       "       13, 18], dtype=int64)"
      ]
     },
     "execution_count": 31,
     "metadata": {},
     "output_type": "execute_result"
    }
   ],
   "source": [
    "df1['BHK'].unique()"
   ]
  },
  {
   "cell_type": "code",
   "execution_count": 32,
   "id": "dc2e4989",
   "metadata": {},
   "outputs": [
    {
     "data": {
      "text/html": [
       "<div>\n",
       "<style scoped>\n",
       "    .dataframe tbody tr th:only-of-type {\n",
       "        vertical-align: middle;\n",
       "    }\n",
       "\n",
       "    .dataframe tbody tr th {\n",
       "        vertical-align: top;\n",
       "    }\n",
       "\n",
       "    .dataframe thead th {\n",
       "        text-align: right;\n",
       "    }\n",
       "</style>\n",
       "<table border=\"1\" class=\"dataframe\">\n",
       "  <thead>\n",
       "    <tr style=\"text-align: right;\">\n",
       "      <th></th>\n",
       "      <th>location</th>\n",
       "      <th>total_sqft</th>\n",
       "      <th>bath</th>\n",
       "      <th>price</th>\n",
       "      <th>BHK</th>\n",
       "    </tr>\n",
       "  </thead>\n",
       "  <tbody>\n",
       "    <tr>\n",
       "      <th>0</th>\n",
       "      <td>Electronic City Phase II</td>\n",
       "      <td>1056</td>\n",
       "      <td>2.0</td>\n",
       "      <td>39.07</td>\n",
       "      <td>2</td>\n",
       "    </tr>\n",
       "    <tr>\n",
       "      <th>1</th>\n",
       "      <td>Chikka Tirupathi</td>\n",
       "      <td>2600</td>\n",
       "      <td>5.0</td>\n",
       "      <td>120.00</td>\n",
       "      <td>4</td>\n",
       "    </tr>\n",
       "    <tr>\n",
       "      <th>2</th>\n",
       "      <td>Uttarahalli</td>\n",
       "      <td>1440</td>\n",
       "      <td>2.0</td>\n",
       "      <td>62.00</td>\n",
       "      <td>3</td>\n",
       "    </tr>\n",
       "    <tr>\n",
       "      <th>3</th>\n",
       "      <td>Lingadheeranahalli</td>\n",
       "      <td>1521</td>\n",
       "      <td>3.0</td>\n",
       "      <td>95.00</td>\n",
       "      <td>3</td>\n",
       "    </tr>\n",
       "    <tr>\n",
       "      <th>4</th>\n",
       "      <td>Kothanur</td>\n",
       "      <td>1200</td>\n",
       "      <td>2.0</td>\n",
       "      <td>51.00</td>\n",
       "      <td>2</td>\n",
       "    </tr>\n",
       "  </tbody>\n",
       "</table>\n",
       "</div>"
      ],
      "text/plain": [
       "                   location total_sqft  bath   price  BHK\n",
       "0  Electronic City Phase II       1056   2.0   39.07    2\n",
       "1          Chikka Tirupathi       2600   5.0  120.00    4\n",
       "2               Uttarahalli       1440   2.0   62.00    3\n",
       "3        Lingadheeranahalli       1521   3.0   95.00    3\n",
       "4                  Kothanur       1200   2.0   51.00    2"
      ]
     },
     "execution_count": 32,
     "metadata": {},
     "output_type": "execute_result"
    }
   ],
   "source": [
    "df1 = df1.drop('size', axis='columns')\n",
    "df1.head()"
   ]
  },
  {
   "cell_type": "code",
   "execution_count": 33,
   "id": "965486ce",
   "metadata": {},
   "outputs": [
    {
     "data": {
      "text/html": [
       "<div>\n",
       "<style scoped>\n",
       "    .dataframe tbody tr th:only-of-type {\n",
       "        vertical-align: middle;\n",
       "    }\n",
       "\n",
       "    .dataframe tbody tr th {\n",
       "        vertical-align: top;\n",
       "    }\n",
       "\n",
       "    .dataframe thead th {\n",
       "        text-align: right;\n",
       "    }\n",
       "</style>\n",
       "<table border=\"1\" class=\"dataframe\">\n",
       "  <thead>\n",
       "    <tr style=\"text-align: right;\">\n",
       "      <th></th>\n",
       "      <th>location</th>\n",
       "      <th>total_sqft</th>\n",
       "      <th>bath</th>\n",
       "      <th>price</th>\n",
       "      <th>BHK</th>\n",
       "    </tr>\n",
       "  </thead>\n",
       "  <tbody>\n",
       "    <tr>\n",
       "      <th>1718</th>\n",
       "      <td>2Electronic City Phase II</td>\n",
       "      <td>8000</td>\n",
       "      <td>27.0</td>\n",
       "      <td>230.0</td>\n",
       "      <td>27</td>\n",
       "    </tr>\n",
       "    <tr>\n",
       "      <th>4684</th>\n",
       "      <td>Munnekollal</td>\n",
       "      <td>2400</td>\n",
       "      <td>40.0</td>\n",
       "      <td>660.0</td>\n",
       "      <td>43</td>\n",
       "    </tr>\n",
       "  </tbody>\n",
       "</table>\n",
       "</div>"
      ],
      "text/plain": [
       "                       location total_sqft  bath  price  BHK\n",
       "1718  2Electronic City Phase II       8000  27.0  230.0   27\n",
       "4684                Munnekollal       2400  40.0  660.0   43"
      ]
     },
     "execution_count": 33,
     "metadata": {},
     "output_type": "execute_result"
    }
   ],
   "source": [
    "df1[df1['BHK'] > 20]"
   ]
  },
  {
   "cell_type": "code",
   "execution_count": 34,
   "id": "ac095728",
   "metadata": {},
   "outputs": [
    {
     "data": {
      "text/plain": [
       "array(['1056', '2600', '1440', ..., '1133 - 1384', '774', '4689'],\n",
       "      dtype=object)"
      ]
     },
     "execution_count": 34,
     "metadata": {},
     "output_type": "execute_result"
    }
   ],
   "source": [
    "df1['total_sqft'].unique()"
   ]
  },
  {
   "cell_type": "code",
   "execution_count": 35,
   "id": "7772d793",
   "metadata": {},
   "outputs": [],
   "source": [
    "#to check if all the values in total_Sqft are float or not\n",
    "def is_float(x):\n",
    "    try:\n",
    "        float(x)\n",
    "    except:\n",
    "        return False\n",
    "    return True"
   ]
  },
  {
   "cell_type": "code",
   "execution_count": 36,
   "id": "1dda9ace",
   "metadata": {},
   "outputs": [
    {
     "data": {
      "text/html": [
       "<div>\n",
       "<style scoped>\n",
       "    .dataframe tbody tr th:only-of-type {\n",
       "        vertical-align: middle;\n",
       "    }\n",
       "\n",
       "    .dataframe tbody tr th {\n",
       "        vertical-align: top;\n",
       "    }\n",
       "\n",
       "    .dataframe thead th {\n",
       "        text-align: right;\n",
       "    }\n",
       "</style>\n",
       "<table border=\"1\" class=\"dataframe\">\n",
       "  <thead>\n",
       "    <tr style=\"text-align: right;\">\n",
       "      <th></th>\n",
       "      <th>location</th>\n",
       "      <th>total_sqft</th>\n",
       "      <th>bath</th>\n",
       "      <th>price</th>\n",
       "      <th>BHK</th>\n",
       "    </tr>\n",
       "  </thead>\n",
       "  <tbody>\n",
       "    <tr>\n",
       "      <th>30</th>\n",
       "      <td>Yelahanka</td>\n",
       "      <td>2100 - 2850</td>\n",
       "      <td>4.0</td>\n",
       "      <td>186.000</td>\n",
       "      <td>4</td>\n",
       "    </tr>\n",
       "    <tr>\n",
       "      <th>122</th>\n",
       "      <td>Hebbal</td>\n",
       "      <td>3067 - 8156</td>\n",
       "      <td>4.0</td>\n",
       "      <td>477.000</td>\n",
       "      <td>4</td>\n",
       "    </tr>\n",
       "    <tr>\n",
       "      <th>137</th>\n",
       "      <td>8th Phase JP Nagar</td>\n",
       "      <td>1042 - 1105</td>\n",
       "      <td>2.0</td>\n",
       "      <td>54.005</td>\n",
       "      <td>2</td>\n",
       "    </tr>\n",
       "    <tr>\n",
       "      <th>165</th>\n",
       "      <td>Sarjapur</td>\n",
       "      <td>1145 - 1340</td>\n",
       "      <td>2.0</td>\n",
       "      <td>43.490</td>\n",
       "      <td>2</td>\n",
       "    </tr>\n",
       "    <tr>\n",
       "      <th>188</th>\n",
       "      <td>KR Puram</td>\n",
       "      <td>1015 - 1540</td>\n",
       "      <td>2.0</td>\n",
       "      <td>56.800</td>\n",
       "      <td>2</td>\n",
       "    </tr>\n",
       "  </tbody>\n",
       "</table>\n",
       "</div>"
      ],
      "text/plain": [
       "               location   total_sqft  bath    price  BHK\n",
       "30            Yelahanka  2100 - 2850   4.0  186.000    4\n",
       "122              Hebbal  3067 - 8156   4.0  477.000    4\n",
       "137  8th Phase JP Nagar  1042 - 1105   2.0   54.005    2\n",
       "165            Sarjapur  1145 - 1340   2.0   43.490    2\n",
       "188            KR Puram  1015 - 1540   2.0   56.800    2"
      ]
     },
     "execution_count": 36,
     "metadata": {},
     "output_type": "execute_result"
    }
   ],
   "source": [
    "df1[~df1['total_sqft'].apply(is_float)].head()\n",
    "#values that are not float"
   ]
  },
  {
   "cell_type": "code",
   "execution_count": 37,
   "id": "f26122dd",
   "metadata": {},
   "outputs": [],
   "source": [
    "#to convert range into float of mean\n",
    "def total_sqft_to_float(x):\n",
    "    tokens = x.split('-')\n",
    "    if len(tokens) == 2:\n",
    "        return((float(tokens[0]) + float(tokens[1]))/2)\n",
    "    try:\n",
    "        return float(x)\n",
    "    except:\n",
    "        return None    "
   ]
  },
  {
   "cell_type": "code",
   "execution_count": 38,
   "id": "028e2b53",
   "metadata": {},
   "outputs": [
    {
     "data": {
      "text/html": [
       "<div>\n",
       "<style scoped>\n",
       "    .dataframe tbody tr th:only-of-type {\n",
       "        vertical-align: middle;\n",
       "    }\n",
       "\n",
       "    .dataframe tbody tr th {\n",
       "        vertical-align: top;\n",
       "    }\n",
       "\n",
       "    .dataframe thead th {\n",
       "        text-align: right;\n",
       "    }\n",
       "</style>\n",
       "<table border=\"1\" class=\"dataframe\">\n",
       "  <thead>\n",
       "    <tr style=\"text-align: right;\">\n",
       "      <th></th>\n",
       "      <th>location</th>\n",
       "      <th>total_sqft</th>\n",
       "      <th>bath</th>\n",
       "      <th>price</th>\n",
       "      <th>BHK</th>\n",
       "    </tr>\n",
       "  </thead>\n",
       "  <tbody>\n",
       "    <tr>\n",
       "      <th>0</th>\n",
       "      <td>Electronic City Phase II</td>\n",
       "      <td>1056.0</td>\n",
       "      <td>2.0</td>\n",
       "      <td>39.07</td>\n",
       "      <td>2</td>\n",
       "    </tr>\n",
       "    <tr>\n",
       "      <th>1</th>\n",
       "      <td>Chikka Tirupathi</td>\n",
       "      <td>2600.0</td>\n",
       "      <td>5.0</td>\n",
       "      <td>120.00</td>\n",
       "      <td>4</td>\n",
       "    </tr>\n",
       "    <tr>\n",
       "      <th>2</th>\n",
       "      <td>Uttarahalli</td>\n",
       "      <td>1440.0</td>\n",
       "      <td>2.0</td>\n",
       "      <td>62.00</td>\n",
       "      <td>3</td>\n",
       "    </tr>\n",
       "    <tr>\n",
       "      <th>3</th>\n",
       "      <td>Lingadheeranahalli</td>\n",
       "      <td>1521.0</td>\n",
       "      <td>3.0</td>\n",
       "      <td>95.00</td>\n",
       "      <td>3</td>\n",
       "    </tr>\n",
       "    <tr>\n",
       "      <th>4</th>\n",
       "      <td>Kothanur</td>\n",
       "      <td>1200.0</td>\n",
       "      <td>2.0</td>\n",
       "      <td>51.00</td>\n",
       "      <td>2</td>\n",
       "    </tr>\n",
       "  </tbody>\n",
       "</table>\n",
       "</div>"
      ],
      "text/plain": [
       "                   location  total_sqft  bath   price  BHK\n",
       "0  Electronic City Phase II      1056.0   2.0   39.07    2\n",
       "1          Chikka Tirupathi      2600.0   5.0  120.00    4\n",
       "2               Uttarahalli      1440.0   2.0   62.00    3\n",
       "3        Lingadheeranahalli      1521.0   3.0   95.00    3\n",
       "4                  Kothanur      1200.0   2.0   51.00    2"
      ]
     },
     "execution_count": 38,
     "metadata": {},
     "output_type": "execute_result"
    }
   ],
   "source": [
    "df2 = df1.copy()\n",
    "df2['total_sqft'] = df2['total_sqft'].apply(lambda x : total_sqft_to_float(x))\n",
    "df2.head()"
   ]
  },
  {
   "cell_type": "code",
   "execution_count": 39,
   "id": "a9de32e1",
   "metadata": {},
   "outputs": [
    {
     "data": {
      "text/plain": [
       "location      Yelahanka\n",
       "total_sqft       2475.0\n",
       "bath                4.0\n",
       "price             186.0\n",
       "BHK                   4\n",
       "Name: 30, dtype: object"
      ]
     },
     "execution_count": 39,
     "metadata": {},
     "output_type": "execute_result"
    }
   ],
   "source": [
    "df2.loc[30]"
   ]
  },
  {
   "cell_type": "code",
   "execution_count": 40,
   "id": "7b588097",
   "metadata": {},
   "outputs": [
    {
     "data": {
      "text/html": [
       "<div>\n",
       "<style scoped>\n",
       "    .dataframe tbody tr th:only-of-type {\n",
       "        vertical-align: middle;\n",
       "    }\n",
       "\n",
       "    .dataframe tbody tr th {\n",
       "        vertical-align: top;\n",
       "    }\n",
       "\n",
       "    .dataframe thead th {\n",
       "        text-align: right;\n",
       "    }\n",
       "</style>\n",
       "<table border=\"1\" class=\"dataframe\">\n",
       "  <thead>\n",
       "    <tr style=\"text-align: right;\">\n",
       "      <th></th>\n",
       "      <th>location</th>\n",
       "      <th>total_sqft</th>\n",
       "      <th>bath</th>\n",
       "      <th>price</th>\n",
       "      <th>BHK</th>\n",
       "      <th>price_per_sqft</th>\n",
       "    </tr>\n",
       "  </thead>\n",
       "  <tbody>\n",
       "    <tr>\n",
       "      <th>0</th>\n",
       "      <td>Electronic City Phase II</td>\n",
       "      <td>1056.0</td>\n",
       "      <td>2.0</td>\n",
       "      <td>39.07</td>\n",
       "      <td>2</td>\n",
       "      <td>3699.810606</td>\n",
       "    </tr>\n",
       "    <tr>\n",
       "      <th>1</th>\n",
       "      <td>Chikka Tirupathi</td>\n",
       "      <td>2600.0</td>\n",
       "      <td>5.0</td>\n",
       "      <td>120.00</td>\n",
       "      <td>4</td>\n",
       "      <td>4615.384615</td>\n",
       "    </tr>\n",
       "    <tr>\n",
       "      <th>2</th>\n",
       "      <td>Uttarahalli</td>\n",
       "      <td>1440.0</td>\n",
       "      <td>2.0</td>\n",
       "      <td>62.00</td>\n",
       "      <td>3</td>\n",
       "      <td>4305.555556</td>\n",
       "    </tr>\n",
       "    <tr>\n",
       "      <th>3</th>\n",
       "      <td>Lingadheeranahalli</td>\n",
       "      <td>1521.0</td>\n",
       "      <td>3.0</td>\n",
       "      <td>95.00</td>\n",
       "      <td>3</td>\n",
       "      <td>6245.890861</td>\n",
       "    </tr>\n",
       "    <tr>\n",
       "      <th>4</th>\n",
       "      <td>Kothanur</td>\n",
       "      <td>1200.0</td>\n",
       "      <td>2.0</td>\n",
       "      <td>51.00</td>\n",
       "      <td>2</td>\n",
       "      <td>4250.000000</td>\n",
       "    </tr>\n",
       "  </tbody>\n",
       "</table>\n",
       "</div>"
      ],
      "text/plain": [
       "                   location  total_sqft  bath   price  BHK  price_per_sqft\n",
       "0  Electronic City Phase II      1056.0   2.0   39.07    2     3699.810606\n",
       "1          Chikka Tirupathi      2600.0   5.0  120.00    4     4615.384615\n",
       "2               Uttarahalli      1440.0   2.0   62.00    3     4305.555556\n",
       "3        Lingadheeranahalli      1521.0   3.0   95.00    3     6245.890861\n",
       "4                  Kothanur      1200.0   2.0   51.00    2     4250.000000"
      ]
     },
     "execution_count": 40,
     "metadata": {},
     "output_type": "execute_result"
    }
   ],
   "source": [
    "#feature engineering - creating a new feature\n",
    "df3 = df2.copy()\n",
    "df3['price_per_sqft'] = df3['price']*100000/df3['total_sqft']\n",
    "df3.head()"
   ]
  },
  {
   "cell_type": "code",
   "execution_count": 41,
   "id": "5b489744",
   "metadata": {},
   "outputs": [
    {
     "data": {
      "text/plain": [
       "1304"
      ]
     },
     "execution_count": 41,
     "metadata": {},
     "output_type": "execute_result"
    }
   ],
   "source": [
    "len(df3['location'].unique())"
   ]
  },
  {
   "cell_type": "code",
   "execution_count": 42,
   "id": "c660293a",
   "metadata": {},
   "outputs": [],
   "source": [
    "#dimensionality curse or high dimensionality problem. as too many features\n",
    " #The dimension of a dataset corresponds to the number of attributes/features that exist in a \n",
    "#dataset. A dataset with a large number of attributes, generally of the order of a hundred or \n",
    "#more, is referred to as high dimensional data. Some of the difficulties that come with high \n",
    "#dimensional data manifest during analyzing or visualizing the data to identify patterns, and \n",
    "#some manifest while training machine learning models. "
   ]
  },
  {
   "cell_type": "code",
   "execution_count": 43,
   "id": "d0e92ec5",
   "metadata": {},
   "outputs": [],
   "source": [
    "df3.location = df3.location.apply(lambda x: x.strip())"
   ]
  },
  {
   "cell_type": "code",
   "execution_count": 44,
   "id": "33aa2c6e",
   "metadata": {},
   "outputs": [
    {
     "data": {
      "text/plain": [
       "location\n",
       "Whitefield               535\n",
       "Sarjapur  Road           392\n",
       "Electronic City          304\n",
       "Kanakpura Road           266\n",
       "Thanisandra              236\n",
       "                        ... \n",
       "1 Giri Nagar               1\n",
       "Kanakapura Road,           1\n",
       "Kanakapura main  Road      1\n",
       "Karnataka Shabarimala      1\n",
       "whitefiled                 1\n",
       "Name: location, Length: 1293, dtype: int64"
      ]
     },
     "execution_count": 44,
     "metadata": {},
     "output_type": "execute_result"
    }
   ],
   "source": [
    "location_stats = df3.groupby('location')['location'].count().sort_values(ascending=False)\n",
    "location_stats"
   ]
  },
  {
   "cell_type": "code",
   "execution_count": 45,
   "id": "e4036f9b",
   "metadata": {},
   "outputs": [
    {
     "data": {
      "text/plain": [
       "1052"
      ]
     },
     "execution_count": 45,
     "metadata": {},
     "output_type": "execute_result"
    }
   ],
   "source": [
    "len(location_stats[location_stats <= 10])    "
   ]
  },
  {
   "cell_type": "code",
   "execution_count": 46,
   "id": "752b23c3",
   "metadata": {},
   "outputs": [
    {
     "data": {
      "text/plain": [
       "1052"
      ]
     },
     "execution_count": 46,
     "metadata": {},
     "output_type": "execute_result"
    }
   ],
   "source": [
    "location_stats_less_than_10 = location_stats[location_stats <= 10]\n",
    "len(location_stats_less_than_10)"
   ]
  },
  {
   "cell_type": "code",
   "execution_count": 47,
   "id": "e9e1913c",
   "metadata": {},
   "outputs": [
    {
     "data": {
      "text/html": [
       "<div>\n",
       "<style scoped>\n",
       "    .dataframe tbody tr th:only-of-type {\n",
       "        vertical-align: middle;\n",
       "    }\n",
       "\n",
       "    .dataframe tbody tr th {\n",
       "        vertical-align: top;\n",
       "    }\n",
       "\n",
       "    .dataframe thead th {\n",
       "        text-align: right;\n",
       "    }\n",
       "</style>\n",
       "<table border=\"1\" class=\"dataframe\">\n",
       "  <thead>\n",
       "    <tr style=\"text-align: right;\">\n",
       "      <th></th>\n",
       "      <th>location</th>\n",
       "      <th>total_sqft</th>\n",
       "      <th>bath</th>\n",
       "      <th>price</th>\n",
       "      <th>BHK</th>\n",
       "      <th>price_per_sqft</th>\n",
       "    </tr>\n",
       "  </thead>\n",
       "  <tbody>\n",
       "    <tr>\n",
       "      <th>0</th>\n",
       "      <td>Electronic City Phase II</td>\n",
       "      <td>1056.0</td>\n",
       "      <td>2.0</td>\n",
       "      <td>39.07</td>\n",
       "      <td>2</td>\n",
       "      <td>3699.810606</td>\n",
       "    </tr>\n",
       "    <tr>\n",
       "      <th>1</th>\n",
       "      <td>Chikka Tirupathi</td>\n",
       "      <td>2600.0</td>\n",
       "      <td>5.0</td>\n",
       "      <td>120.00</td>\n",
       "      <td>4</td>\n",
       "      <td>4615.384615</td>\n",
       "    </tr>\n",
       "    <tr>\n",
       "      <th>2</th>\n",
       "      <td>Uttarahalli</td>\n",
       "      <td>1440.0</td>\n",
       "      <td>2.0</td>\n",
       "      <td>62.00</td>\n",
       "      <td>3</td>\n",
       "      <td>4305.555556</td>\n",
       "    </tr>\n",
       "    <tr>\n",
       "      <th>3</th>\n",
       "      <td>Lingadheeranahalli</td>\n",
       "      <td>1521.0</td>\n",
       "      <td>3.0</td>\n",
       "      <td>95.00</td>\n",
       "      <td>3</td>\n",
       "      <td>6245.890861</td>\n",
       "    </tr>\n",
       "    <tr>\n",
       "      <th>4</th>\n",
       "      <td>Kothanur</td>\n",
       "      <td>1200.0</td>\n",
       "      <td>2.0</td>\n",
       "      <td>51.00</td>\n",
       "      <td>2</td>\n",
       "      <td>4250.000000</td>\n",
       "    </tr>\n",
       "    <tr>\n",
       "      <th>5</th>\n",
       "      <td>Whitefield</td>\n",
       "      <td>1170.0</td>\n",
       "      <td>2.0</td>\n",
       "      <td>38.00</td>\n",
       "      <td>2</td>\n",
       "      <td>3247.863248</td>\n",
       "    </tr>\n",
       "    <tr>\n",
       "      <th>6</th>\n",
       "      <td>Old Airport Road</td>\n",
       "      <td>2732.0</td>\n",
       "      <td>4.0</td>\n",
       "      <td>204.00</td>\n",
       "      <td>4</td>\n",
       "      <td>7467.057101</td>\n",
       "    </tr>\n",
       "    <tr>\n",
       "      <th>7</th>\n",
       "      <td>Rajaji Nagar</td>\n",
       "      <td>3300.0</td>\n",
       "      <td>4.0</td>\n",
       "      <td>600.00</td>\n",
       "      <td>4</td>\n",
       "      <td>18181.818182</td>\n",
       "    </tr>\n",
       "    <tr>\n",
       "      <th>8</th>\n",
       "      <td>Marathahalli</td>\n",
       "      <td>1310.0</td>\n",
       "      <td>3.0</td>\n",
       "      <td>63.25</td>\n",
       "      <td>3</td>\n",
       "      <td>4828.244275</td>\n",
       "    </tr>\n",
       "    <tr>\n",
       "      <th>9</th>\n",
       "      <td>other</td>\n",
       "      <td>1020.0</td>\n",
       "      <td>6.0</td>\n",
       "      <td>370.00</td>\n",
       "      <td>6</td>\n",
       "      <td>36274.509804</td>\n",
       "    </tr>\n",
       "  </tbody>\n",
       "</table>\n",
       "</div>"
      ],
      "text/plain": [
       "                   location  total_sqft  bath   price  BHK  price_per_sqft\n",
       "0  Electronic City Phase II      1056.0   2.0   39.07    2     3699.810606\n",
       "1          Chikka Tirupathi      2600.0   5.0  120.00    4     4615.384615\n",
       "2               Uttarahalli      1440.0   2.0   62.00    3     4305.555556\n",
       "3        Lingadheeranahalli      1521.0   3.0   95.00    3     6245.890861\n",
       "4                  Kothanur      1200.0   2.0   51.00    2     4250.000000\n",
       "5                Whitefield      1170.0   2.0   38.00    2     3247.863248\n",
       "6          Old Airport Road      2732.0   4.0  204.00    4     7467.057101\n",
       "7              Rajaji Nagar      3300.0   4.0  600.00    4    18181.818182\n",
       "8              Marathahalli      1310.0   3.0   63.25    3     4828.244275\n",
       "9                     other      1020.0   6.0  370.00    6    36274.509804"
      ]
     },
     "execution_count": 47,
     "metadata": {},
     "output_type": "execute_result"
    }
   ],
   "source": [
    "df3.location = df3.location.apply(lambda x : 'other' if x in location_stats_less_than_10 else x) \n",
    "df3.head(10)"
   ]
  },
  {
   "cell_type": "code",
   "execution_count": 48,
   "id": "c28312fe",
   "metadata": {},
   "outputs": [
    {
     "data": {
      "text/plain": [
       "242"
      ]
     },
     "execution_count": 48,
     "metadata": {},
     "output_type": "execute_result"
    }
   ],
   "source": [
    "len(df3.location.unique())"
   ]
  },
  {
   "cell_type": "code",
   "execution_count": 49,
   "id": "36160ad3",
   "metadata": {},
   "outputs": [
    {
     "data": {
      "text/html": [
       "<div>\n",
       "<style scoped>\n",
       "    .dataframe tbody tr th:only-of-type {\n",
       "        vertical-align: middle;\n",
       "    }\n",
       "\n",
       "    .dataframe tbody tr th {\n",
       "        vertical-align: top;\n",
       "    }\n",
       "\n",
       "    .dataframe thead th {\n",
       "        text-align: right;\n",
       "    }\n",
       "</style>\n",
       "<table border=\"1\" class=\"dataframe\">\n",
       "  <thead>\n",
       "    <tr style=\"text-align: right;\">\n",
       "      <th></th>\n",
       "      <th>location</th>\n",
       "      <th>total_sqft</th>\n",
       "      <th>bath</th>\n",
       "      <th>price</th>\n",
       "      <th>BHK</th>\n",
       "      <th>price_per_sqft</th>\n",
       "    </tr>\n",
       "  </thead>\n",
       "  <tbody>\n",
       "    <tr>\n",
       "      <th>0</th>\n",
       "      <td>Electronic City Phase II</td>\n",
       "      <td>1056.0</td>\n",
       "      <td>2.0</td>\n",
       "      <td>39.07</td>\n",
       "      <td>2</td>\n",
       "      <td>3699.810606</td>\n",
       "    </tr>\n",
       "    <tr>\n",
       "      <th>1</th>\n",
       "      <td>Chikka Tirupathi</td>\n",
       "      <td>2600.0</td>\n",
       "      <td>5.0</td>\n",
       "      <td>120.00</td>\n",
       "      <td>4</td>\n",
       "      <td>4615.384615</td>\n",
       "    </tr>\n",
       "    <tr>\n",
       "      <th>2</th>\n",
       "      <td>Uttarahalli</td>\n",
       "      <td>1440.0</td>\n",
       "      <td>2.0</td>\n",
       "      <td>62.00</td>\n",
       "      <td>3</td>\n",
       "      <td>4305.555556</td>\n",
       "    </tr>\n",
       "    <tr>\n",
       "      <th>3</th>\n",
       "      <td>Lingadheeranahalli</td>\n",
       "      <td>1521.0</td>\n",
       "      <td>3.0</td>\n",
       "      <td>95.00</td>\n",
       "      <td>3</td>\n",
       "      <td>6245.890861</td>\n",
       "    </tr>\n",
       "    <tr>\n",
       "      <th>4</th>\n",
       "      <td>Kothanur</td>\n",
       "      <td>1200.0</td>\n",
       "      <td>2.0</td>\n",
       "      <td>51.00</td>\n",
       "      <td>2</td>\n",
       "      <td>4250.000000</td>\n",
       "    </tr>\n",
       "    <tr>\n",
       "      <th>5</th>\n",
       "      <td>Whitefield</td>\n",
       "      <td>1170.0</td>\n",
       "      <td>2.0</td>\n",
       "      <td>38.00</td>\n",
       "      <td>2</td>\n",
       "      <td>3247.863248</td>\n",
       "    </tr>\n",
       "    <tr>\n",
       "      <th>6</th>\n",
       "      <td>Old Airport Road</td>\n",
       "      <td>2732.0</td>\n",
       "      <td>4.0</td>\n",
       "      <td>204.00</td>\n",
       "      <td>4</td>\n",
       "      <td>7467.057101</td>\n",
       "    </tr>\n",
       "    <tr>\n",
       "      <th>7</th>\n",
       "      <td>Rajaji Nagar</td>\n",
       "      <td>3300.0</td>\n",
       "      <td>4.0</td>\n",
       "      <td>600.00</td>\n",
       "      <td>4</td>\n",
       "      <td>18181.818182</td>\n",
       "    </tr>\n",
       "    <tr>\n",
       "      <th>8</th>\n",
       "      <td>Marathahalli</td>\n",
       "      <td>1310.0</td>\n",
       "      <td>3.0</td>\n",
       "      <td>63.25</td>\n",
       "      <td>3</td>\n",
       "      <td>4828.244275</td>\n",
       "    </tr>\n",
       "    <tr>\n",
       "      <th>9</th>\n",
       "      <td>other</td>\n",
       "      <td>1020.0</td>\n",
       "      <td>6.0</td>\n",
       "      <td>370.00</td>\n",
       "      <td>6</td>\n",
       "      <td>36274.509804</td>\n",
       "    </tr>\n",
       "  </tbody>\n",
       "</table>\n",
       "</div>"
      ],
      "text/plain": [
       "                   location  total_sqft  bath   price  BHK  price_per_sqft\n",
       "0  Electronic City Phase II      1056.0   2.0   39.07    2     3699.810606\n",
       "1          Chikka Tirupathi      2600.0   5.0  120.00    4     4615.384615\n",
       "2               Uttarahalli      1440.0   2.0   62.00    3     4305.555556\n",
       "3        Lingadheeranahalli      1521.0   3.0   95.00    3     6245.890861\n",
       "4                  Kothanur      1200.0   2.0   51.00    2     4250.000000\n",
       "5                Whitefield      1170.0   2.0   38.00    2     3247.863248\n",
       "6          Old Airport Road      2732.0   4.0  204.00    4     7467.057101\n",
       "7              Rajaji Nagar      3300.0   4.0  600.00    4    18181.818182\n",
       "8              Marathahalli      1310.0   3.0   63.25    3     4828.244275\n",
       "9                     other      1020.0   6.0  370.00    6    36274.509804"
      ]
     },
     "execution_count": 49,
     "metadata": {},
     "output_type": "execute_result"
    }
   ],
   "source": [
    "df3.head(10)"
   ]
  },
  {
   "cell_type": "code",
   "execution_count": 50,
   "id": "eafc5264",
   "metadata": {},
   "outputs": [
    {
     "data": {
      "text/plain": [
       "13246"
      ]
     },
     "execution_count": 50,
     "metadata": {},
     "output_type": "execute_result"
    }
   ],
   "source": [
    "len(df3)"
   ]
  },
  {
   "cell_type": "code",
   "execution_count": 51,
   "id": "8ecb04a4",
   "metadata": {},
   "outputs": [
    {
     "data": {
      "text/plain": [
       "744"
      ]
     },
     "execution_count": 51,
     "metadata": {},
     "output_type": "execute_result"
    }
   ],
   "source": [
    "df3[df3['total_sqft']/df3['BHK'] < 300]['location'].count()"
   ]
  },
  {
   "cell_type": "code",
   "execution_count": 52,
   "id": "99079292",
   "metadata": {},
   "outputs": [
    {
     "data": {
      "text/plain": [
       "12502"
      ]
     },
     "execution_count": 52,
     "metadata": {},
     "output_type": "execute_result"
    }
   ],
   "source": [
    "df4 = df3[~(df3['total_sqft']/df3['BHK'] < 300)]\n",
    "len(df4)"
   ]
  },
  {
   "cell_type": "code",
   "execution_count": 53,
   "id": "909279c4",
   "metadata": {},
   "outputs": [
    {
     "data": {
      "text/plain": [
       "count     12456.000000\n",
       "mean       6308.502826\n",
       "std        4168.127339\n",
       "min         267.829813\n",
       "25%        4210.526316\n",
       "50%        5294.117647\n",
       "75%        6916.666667\n",
       "max      176470.588235\n",
       "Name: price_per_sqft, dtype: float64"
      ]
     },
     "execution_count": 53,
     "metadata": {},
     "output_type": "execute_result"
    }
   ],
   "source": [
    "df4.price_per_sqft.describe()"
   ]
  },
  {
   "cell_type": "code",
   "execution_count": 54,
   "id": "ea3c4101",
   "metadata": {},
   "outputs": [
    {
     "data": {
      "text/plain": [
       "<AxesSubplot:>"
      ]
     },
     "execution_count": 54,
     "metadata": {},
     "output_type": "execute_result"
    },
    {
     "data": {
      "image/png": "[encoded data removed]",
      "text/plain": [
       "<Figure size 640x480 with 1 Axes>"
      ]
     },
     "metadata": {},
     "output_type": "display_data"
    }
   ],
   "source": [
    "df4.price_per_sqft.plot()"
   ]
  },
  {
   "cell_type": "code",
   "execution_count": 55,
   "id": "71e0e3ed",
   "metadata": {},
   "outputs": [
    {
     "data": {
      "text/html": [
       "<div>\n",
       "<style scoped>\n",
       "    .dataframe tbody tr th:only-of-type {\n",
       "        vertical-align: middle;\n",
       "    }\n",
       "\n",
       "    .dataframe tbody tr th {\n",
       "        vertical-align: top;\n",
       "    }\n",
       "\n",
       "    .dataframe thead th {\n",
       "        text-align: right;\n",
       "    }\n",
       "</style>\n",
       "<table border=\"1\" class=\"dataframe\">\n",
       "  <thead>\n",
       "    <tr style=\"text-align: right;\">\n",
       "      <th></th>\n",
       "      <th>location</th>\n",
       "      <th>total_sqft</th>\n",
       "      <th>bath</th>\n",
       "      <th>price</th>\n",
       "      <th>BHK</th>\n",
       "      <th>price_per_sqft</th>\n",
       "    </tr>\n",
       "  </thead>\n",
       "  <tbody>\n",
       "    <tr>\n",
       "      <th>0</th>\n",
       "      <td>Electronic City Phase II</td>\n",
       "      <td>1056.0</td>\n",
       "      <td>2.0</td>\n",
       "      <td>39.07</td>\n",
       "      <td>2</td>\n",
       "      <td>3699.810606</td>\n",
       "    </tr>\n",
       "    <tr>\n",
       "      <th>1</th>\n",
       "      <td>Chikka Tirupathi</td>\n",
       "      <td>2600.0</td>\n",
       "      <td>5.0</td>\n",
       "      <td>120.00</td>\n",
       "      <td>4</td>\n",
       "      <td>4615.384615</td>\n",
       "    </tr>\n",
       "    <tr>\n",
       "      <th>2</th>\n",
       "      <td>Uttarahalli</td>\n",
       "      <td>1440.0</td>\n",
       "      <td>2.0</td>\n",
       "      <td>62.00</td>\n",
       "      <td>3</td>\n",
       "      <td>4305.555556</td>\n",
       "    </tr>\n",
       "    <tr>\n",
       "      <th>3</th>\n",
       "      <td>Lingadheeranahalli</td>\n",
       "      <td>1521.0</td>\n",
       "      <td>3.0</td>\n",
       "      <td>95.00</td>\n",
       "      <td>3</td>\n",
       "      <td>6245.890861</td>\n",
       "    </tr>\n",
       "    <tr>\n",
       "      <th>4</th>\n",
       "      <td>Kothanur</td>\n",
       "      <td>1200.0</td>\n",
       "      <td>2.0</td>\n",
       "      <td>51.00</td>\n",
       "      <td>2</td>\n",
       "      <td>4250.000000</td>\n",
       "    </tr>\n",
       "    <tr>\n",
       "      <th>5</th>\n",
       "      <td>Whitefield</td>\n",
       "      <td>1170.0</td>\n",
       "      <td>2.0</td>\n",
       "      <td>38.00</td>\n",
       "      <td>2</td>\n",
       "      <td>3247.863248</td>\n",
       "    </tr>\n",
       "    <tr>\n",
       "      <th>6</th>\n",
       "      <td>Old Airport Road</td>\n",
       "      <td>2732.0</td>\n",
       "      <td>4.0</td>\n",
       "      <td>204.00</td>\n",
       "      <td>4</td>\n",
       "      <td>7467.057101</td>\n",
       "    </tr>\n",
       "    <tr>\n",
       "      <th>7</th>\n",
       "      <td>Rajaji Nagar</td>\n",
       "      <td>3300.0</td>\n",
       "      <td>4.0</td>\n",
       "      <td>600.00</td>\n",
       "      <td>4</td>\n",
       "      <td>18181.818182</td>\n",
       "    </tr>\n",
       "    <tr>\n",
       "      <th>8</th>\n",
       "      <td>Marathahalli</td>\n",
       "      <td>1310.0</td>\n",
       "      <td>3.0</td>\n",
       "      <td>63.25</td>\n",
       "      <td>3</td>\n",
       "      <td>4828.244275</td>\n",
       "    </tr>\n",
       "    <tr>\n",
       "      <th>10</th>\n",
       "      <td>Whitefield</td>\n",
       "      <td>1800.0</td>\n",
       "      <td>2.0</td>\n",
       "      <td>70.00</td>\n",
       "      <td>3</td>\n",
       "      <td>3888.888889</td>\n",
       "    </tr>\n",
       "  </tbody>\n",
       "</table>\n",
       "</div>"
      ],
      "text/plain": [
       "                    location  total_sqft  bath   price  BHK  price_per_sqft\n",
       "0   Electronic City Phase II      1056.0   2.0   39.07    2     3699.810606\n",
       "1           Chikka Tirupathi      2600.0   5.0  120.00    4     4615.384615\n",
       "2                Uttarahalli      1440.0   2.0   62.00    3     4305.555556\n",
       "3         Lingadheeranahalli      1521.0   3.0   95.00    3     6245.890861\n",
       "4                   Kothanur      1200.0   2.0   51.00    2     4250.000000\n",
       "5                 Whitefield      1170.0   2.0   38.00    2     3247.863248\n",
       "6           Old Airport Road      2732.0   4.0  204.00    4     7467.057101\n",
       "7               Rajaji Nagar      3300.0   4.0  600.00    4    18181.818182\n",
       "8               Marathahalli      1310.0   3.0   63.25    3     4828.244275\n",
       "10                Whitefield      1800.0   2.0   70.00    3     3888.888889"
      ]
     },
     "execution_count": 55,
     "metadata": {},
     "output_type": "execute_result"
    }
   ],
   "source": [
    "df4.head(10)"
   ]
  },
  {
   "cell_type": "code",
   "execution_count": 56,
   "id": "60bbfe01",
   "metadata": {},
   "outputs": [
    {
     "data": {
      "text/plain": [
       "10241"
      ]
     },
     "execution_count": 56,
     "metadata": {},
     "output_type": "execute_result"
    }
   ],
   "source": [
    "#removing outliers for location(extreme high and low) because we're building a generic model\n",
    "#filtering out data points which are 1standard deviation away\n",
    "def remove_pps_outliers(df):\n",
    "    df_out = pd.DataFrame()\n",
    "    for key, subdf in df.groupby('location'):\n",
    "        #each unique location act as a key. And has its own data frame.\n",
    "        m = np.mean(subdf.price_per_sqft)\n",
    "        st = np.std(subdf.price_per_sqft)\n",
    "        reduced_df = subdf[(subdf.price_per_sqft > (m-st)) & (subdf.price_per_sqft <= (m+st))]\n",
    "        df_out = pd.concat([df_out, reduced_df], ignore_index = True)\n",
    "    return df_out\n",
    "df5 = remove_pps_outliers(df4)\n",
    "len(df5)"
   ]
  },
  {
   "cell_type": "code",
   "execution_count": 57,
   "id": "a77142dc",
   "metadata": {},
   "outputs": [],
   "source": [
    "#removed close to 2000 outliers from dataset"
   ]
  },
  {
   "cell_type": "code",
   "execution_count": 69,
   "id": "f2711d32",
   "metadata": {},
   "outputs": [
    {
     "data": {
      "image/png": "[encoded data removed]",
      "text/plain": [
       "<Figure size 640x480 with 1 Axes>"
      ]
     },
     "metadata": {},
     "output_type": "display_data"
    }
   ],
   "source": [
    "def plot_scatter_chart(df, location):\n",
    "    bhk2 = df[(df.location == location) & (df.BHK == 2)]\n",
    "    bhk3 = df[(df.location == location) & (df.BHK == 3)]\n",
    "    #matplotlib.rcParams['figure,figsize'] = (15,10)\n",
    "    plt.scatter(bhk2.total_sqft, bhk2.price, color=\"blue\", label = '2bhk', s=50)\n",
    "    plt.scatter(bhk3.total_sqft, bhk3.price, marker='+', color=\"green\", label = '3bhk', s=50)\n",
    "    plt.xlabel(\"Total sq feet area\")\n",
    "    plt.ylabel(\"Price\")\n",
    "    plt.title(location)\n",
    "    plt.legend()\n",
    "    \n",
    "plot_scatter_chart(df5, \"Hebbal\")"
   ]
  },
  {
   "cell_type": "code",
   "execution_count": 59,
   "id": "1d2b6be4",
   "metadata": {},
   "outputs": [],
   "source": [
    " #For some reason the price of some datapoints 2BHK is higher than that of a 3 BHK of a same area\n",
    "    #thus we should remove these outliers"
   ]
  },
  {
   "cell_type": "code",
   "execution_count": 63,
   "id": "85ee0e22",
   "metadata": {},
   "outputs": [
    {
     "name": "stdout",
     "output_type": "stream",
     "text": [
      "{2: {'mean': 11983.805668016194, 'std': 0.0, 'count': 1}, 3: {'mean': 11756.16905248807, 'std': 701.6243657657865, 'count': 3}, 4: {'mean': 15018.711280365416, 'std': 1.2278182423353805, 'count': 3}}\n",
      "{1: {'mean': 5952.380952380952, 'std': 0.0, 'count': 1}, 2: {'mean': 7931.806799837383, 'std': 1534.1422783514054, 'count': 8}, 3: {'mean': 9151.192151725822, 'std': 1054.731726021645, 'count': 7}, 4: {'mean': 7537.92218148637, 'std': 1607.0591069513537, 'count': 3}, 5: {'mean': 5666.666666666667, 'std': 0.0, 'count': 1}}\n",
      "{2: {'mean': 3851.8518518518517, 'std': 497.593660834978, 'count': 3}, 3: {'mean': 3620.93991671624, 'std': 241.87983343248052, 'count': 5}}\n",
      "{4: {'mean': 15891.203703703704, 'std': 1668.9846920398563, 'count': 4}, 6: {'mean': 16891.666666666668, 'std': 1858.333333333333, 'count': 2}}\n",
      "{2: {'mean': 4755.410708222867, 'std': 374.06419031565235, 'count': 3}, 3: {'mean': 5511.811023622047, 'std': 0.0, 'count': 1}, 5: {'mean': 3611.1111111111113, 'std': 0.0, 'count': 1}, 6: {'mean': 5882.35294117647, 'std': 0.0, 'count': 1}}\n",
      "{1: {'mean': 4628.623188405797, 'std': 371.376811594203, 'count': 2}, 2: {'mean': 5067.359785883266, 'std': 453.24956183513086, 'count': 17}, 3: {'mean': 5112.892626961968, 'std': 526.8794907246175, 'count': 8}, 5: {'mean': 4325.0, 'std': 75.0, 'count': 2}}\n",
      "{2: {'mean': 5932.976565810136, 'std': 671.9347030151997, 'count': 8}, 3: {'mean': 8403.2863080867, 'std': 1515.4146231166221, 'count': 5}, 4: {'mean': 7704.160246533128, 'std': 0.0, 'count': 1}}\n",
      "{1: {'mean': 6133.333333333334, 'std': 133.33333333333348, 'count': 2}, 2: {'mean': 6272.516842644272, 'std': 1012.7881476778178, 'count': 40}, 3: {'mean': 6612.8616825981035, 'std': 1181.6582893458344, 'count': 57}, 4: {'mean': 6028.22068063778, 'std': 1482.7661351832348, 'count': 2}}\n",
      "{1: {'mean': 6357.427937915743, 'std': 267.1694064501245, 'count': 4}, 2: {'mean': 4324.406715739656, 'std': 1131.8308808521078, 'count': 22}, 3: {'mean': 4293.744876160689, 'std': 723.4267508470377, 'count': 17}, 4: {'mean': 4539.6147062813725, 'std': 195.35428340140427, 'count': 3}, 5: {'mean': 4335.260115606937, 'std': 0.0, 'count': 1}}\n",
      "{1: {'mean': 3333.3333333333335, 'std': 0.0, 'count': 1}, 2: {'mean': 4653.051383903641, 'std': 834.4408302683472, 'count': 20}, 3: {'mean': 4518.339436369508, 'std': 790.2476753262926, 'count': 9}, 4: {'mean': 5336.8421052631575, 'std': 800.5999597024291, 'count': 3}}\n",
      "{2: {'mean': 4921.300339526721, 'std': 619.6355499375203, 'count': 7}, 3: {'mean': 4500.0, 'std': 0.0, 'count': 1}}\n",
      "{1: {'mean': 3310.9205535075066, 'std': 610.6480739434737, 'count': 2}, 2: {'mean': 4058.165803016323, 'std': 62.23518728011486, 'count': 13}, 3: {'mean': 3571.4285714285716, 'std': 0.0, 'count': 1}, 6: {'mean': 3165.4545454545455, 'std': 74.5454545454545, 'count': 2}, 8: {'mean': 5000.0, 'std': 0.0, 'count': 1}}\n",
      "{2: {'mean': 4781.22783734999, 'std': 453.10974836521865, 'count': 17}, 3: {'mean': 5294.361032273931, 'std': 513.4396107693667, 'count': 30}}\n",
      "{1: {'mean': 5690.909090909091, 'std': 0.0, 'count': 1}, 2: {'mean': 5886.737386783397, 'std': 736.0640513407117, 'count': 10}, 3: {'mean': 6331.134555298749, 'std': 569.718562351169, 'count': 7}, 4: {'mean': 5503.386809269163, 'std': 339.75044563279835, 'count': 2}}\n",
      "{2: {'mean': 6454.091928430547, 'std': 182.0843219299883, 'count': 5}, 3: {'mean': 6572.746532916982, 'std': 422.13464472691317, 'count': 19}, 4: {'mean': 7684.086312870249, 'std': 531.2111375546801, 'count': 2}}\n",
      "{1: {'mean': 4020.618556701031, 'std': 0.0, 'count': 1}, 2: {'mean': 4953.838379629301, 'std': 823.6966143070669, 'count': 12}, 3: {'mean': 5574.846418310635, 'std': 1077.4444900329127, 'count': 7}}\n",
      "{2: {'mean': 4335.741837049204, 'std': 710.6695705040866, 'count': 14}, 3: {'mean': 4376.900862764794, 'std': 811.4741024839058, 'count': 5}, 4: {'mean': 5145.797598627787, 'std': 0.0, 'count': 1}}\n",
      "{1: {'mean': 2800.0, 'std': 0.0, 'count': 4}, 2: {'mean': 3015.424249737158, 'std': 491.5389870277813, 'count': 19}, 3: {'mean': 3239.9055148973916, 'std': 333.6052126335633, 'count': 3}}\n",
      "{1: {'mean': 3307.549188983317, 'std': 602.8526665064047, 'count': 6}, 2: {'mean': 3418.531131818201, 'std': 543.1514964904059, 'count': 22}, 3: {'mean': 4075.680581158921, 'std': 340.19143395777115, 'count': 4}, 4: {'mean': 3000.0, 'std': 0.0, 'count': 1}}\n",
      "{2: {'mean': 3451.5654968214635, 'std': 402.7964034804156, 'count': 7}, 3: {'mean': 4783.11324361657, 'std': 2019.9576386770505, 'count': 4}, 4: {'mean': 3852.102102102102, 'std': 796.5465465465463, 'count': 2}}\n",
      "{2: {'mean': 5596.405228758171, 'std': 122.54901960784309, 'count': 2}, 3: {'mean': 5378.184432045396, 'std': 324.88136834734956, 'count': 10}, 4: {'mean': 6445.687085352693, 'std': 663.0498079730814, 'count': 7}}\n",
      "{1: {'mean': 4666.666666666667, 'std': 0.0, 'count': 1}, 2: {'mean': 4884.730750645279, 'std': 371.1132245946985, 'count': 6}, 3: {'mean': 5822.747277384037, 'std': 695.6480303741811, 'count': 3}, 4: {'mean': 5239.852398523985, 'std': 0.0, 'count': 1}}\n",
      "{1: {'mean': 2823.051298353896, 'std': 440.885126183788, 'count': 18}, 2: {'mean': 3204.1609520225243, 'std': 617.2070386969107, 'count': 12}, 3: {'mean': 4330.95861895704, 'std': 1307.8696742735906, 'count': 4}, 4: {'mean': 3840.959409594096, 'std': 540.9594095940961, 'count': 2}}\n",
      "{2: {'mean': 5944.048212904286, 'std': 1628.8084083258766, 'count': 6}, 3: {'mean': 4250.0, 'std': 0.0, 'count': 4}, 5: {'mean': 9375.0, 'std': 0.0, 'count': 1}}\n",
      "{2: {'mean': 5621.791028153005, 'std': 795.7682556051348, 'count': 14}, 3: {'mean': 10282.085985474581, 'std': 3831.770494859885, 'count': 9}, 5: {'mean': 13913.04347826087, 'std': 0.0, 'count': 1}}\n",
      "{1: {'mean': 4444.444444444444, 'std': 0.0, 'count': 1}, 2: {'mean': 5073.776447337828, 'std': 424.90705275056126, 'count': 4}, 3: {'mean': 5685.2029893641175, 'std': 881.6401846985812, 'count': 7}, 6: {'mean': 5000.0, 'std': 0.0, 'count': 1}}\n",
      "{2: {'mean': 3799.9594889549185, 'std': 423.8304869618115, 'count': 11}, 3: {'mean': 3669.941030877054, 'std': 601.932707346431, 'count': 10}}\n",
      "{2: {'mean': 6357.9277864992155, 'std': 0.0, 'count': 2}, 3: {'mean': 6279.828480978357, 'std': 42.27887875035828, 'count': 7}}\n",
      "{1: {'mean': 5865.01000449379, 'std': 539.315075028032, 'count': 9}, 2: {'mean': 6191.4951431862855, 'std': 543.3822583816924, 'count': 28}}\n",
      "{1: {'mean': 8333.333333333334, 'std': 0.0, 'count': 2}, 2: {'mean': 5106.22293892398, 'std': 1125.9345648529472, 'count': 30}, 3: {'mean': 5529.501709513816, 'std': 1331.3597621579484, 'count': 27}, 4: {'mean': 3800.0, 'std': 0.0, 'count': 1}}\n",
      "{2: {'mean': 8701.636799298034, 'std': 1030.287972433991, 'count': 4}, 3: {'mean': 10723.280423280425, 'std': 4231.90962768462, 'count': 6}, 4: {'mean': 12500.0, 'std': 0.0, 'count': 1}, 5: {'mean': 18214.285714285714, 'std': 3035.7142857142853, 'count': 2}}\n",
      "{2: {'mean': 5430.250387687147, 'std': 1871.4365421808766, 'count': 4}, 3: {'mean': 5330.43635317069, 'std': 1014.1370099612311, 'count': 10}, 4: {'mean': 7333.333333333333, 'std': 2054.8046676563254, 'count': 3}, 6: {'mean': 5000.0, 'std': 0.0, 'count': 1}}\n",
      "{2: {'mean': 3983.4541062801936, 'std': 527.4154589371976, 'count': 2}, 3: {'mean': 3581.5713402611805, 'std': 544.8260330690271, 'count': 9}}\n",
      "{2: {'mean': 5072.0195454829345, 'std': 22.81429179660186, 'count': 3}, 3: {'mean': 5006.925310122253, 'std': 23.924063833179062, 'count': 3}, 4: {'mean': 5041.801948051948, 'std': 2237.063491984229, 'count': 4}}\n",
      "{1: {'mean': 6641.366223908918, 'std': 0.0, 'count': 1}, 2: {'mean': 5110.715347907356, 'std': 582.5694084547944, 'count': 10}, 3: {'mean': 4656.25, 'std': 0.0, 'count': 1}, 5: {'mean': 7356.8050446663165, 'std': 0.0, 'count': 1}}\n",
      "{2: {'mean': 6635.496110794916, 'std': 905.9365352849989, 'count': 3}, 3: {'mean': 5600.0, 'std': 0.0, 'count': 1}}\n",
      "{2: {'mean': 6630.037324398989, 'std': 872.6962508901346, 'count': 4}, 3: {'mean': 7565.595658950089, 'std': 786.4254337865935, 'count': 4}, 4: {'mean': 8300.132802124834, 'std': 0.0, 'count': 1}}\n",
      "{1: {'mean': 4932.455648926237, 'std': 741.987966876004, 'count': 5}, 2: {'mean': 5156.7223242312, 'std': 951.8519337869209, 'count': 59}, 3: {'mean': 5384.498056381959, 'std': 1219.6689012468119, 'count': 71}, 4: {'mean': 5968.786895986739, 'std': 1737.4673135012401, 'count': 8}, 5: {'mean': 5851.851851851852, 'std': 0.0, 'count': 1}, 6: {'mean': 8108.108108108108, 'std': 0.0, 'count': 1}}\n",
      "{2: {'mean': 9700.42512839123, 'std': 665.8646001174526, 'count': 6}, 3: {'mean': 9210.853069429275, 'std': 904.4272935920624, 'count': 10}, 4: {'mean': 10095.80105992662, 'std': 95.80105992662084, 'count': 2}}\n",
      "{2: {'mean': 6750.0, 'std': 552.7707983925667, 'count': 5}, 3: {'mean': 7834.767884859602, 'std': 59.968957245661386, 'count': 2}, 5: {'mean': 11069.444444444445, 'std': 1847.2222222222217, 'count': 2}}\n",
      "{2: {'mean': 4345.724306884857, 'std': 823.6340914029164, 'count': 9}, 3: {'mean': 5015.40017552159, 'std': 337.7428143761158, 'count': 8}}\n",
      "{2: {'mean': 4961.668185533498, 'std': 39.10751993914706, 'count': 3}, 3: {'mean': 4510.654979278204, 'std': 599.1143016556773, 'count': 9}, 4: {'mean': 3906.25, 'std': 0.0, 'count': 1}}\n",
      "{2: {'mean': 3624.166282880881, 'std': 262.3730178311292, 'count': 35}, 3: {'mean': 3684.8720181009567, 'std': 378.82522322146735, 'count': 28}, 4: {'mean': 4787.9894501927365, 'std': 0.0, 'count': 1}}\n",
      "{1: {'mean': 4210.526315789473, 'std': 0.0, 'count': 1}, 2: {'mean': 5116.644099551324, 'std': 1016.3979870126873, 'count': 52}, 3: {'mean': 5647.571810653258, 'std': 1127.9673046785176, 'count': 31}, 4: {'mean': 6759.122130530177, 'std': 845.9579630611066, 'count': 4}}\n",
      "{2: {'mean': 12686.709975197631, 'std': 3611.8164390019756, 'count': 4}, 3: {'mean': 14313.731148045554, 'std': 2420.56421489562, 'count': 3}, 4: {'mean': 14856.497304850036, 'std': 282.5062734599014, 'count': 2}}\n",
      "{2: {'mean': 4813.740209190312, 'std': 471.43026983759114, 'count': 8}, 3: {'mean': 4200.120192307692, 'std': 0.0, 'count': 1}}\n",
      "{2: {'mean': 5417.416718889453, 'std': 285.36806332317167, 'count': 12}, 3: {'mean': 6125.4200445093, 'std': 899.1112373435706, 'count': 13}, 4: {'mean': 5819.947378148696, 'std': 903.0672389839924, 'count': 10}}\n",
      "{2: {'mean': 5962.1264143650205, 'std': 952.8379048046246, 'count': 7}, 3: {'mean': 6179.829109009818, 'std': 1029.8742088847782, 'count': 6}}\n",
      "{1: {'mean': 8402.445507708666, 'std': 736.2001080352403, 'count': 3}, 2: {'mean': 8937.728937728938, 'std': 0.0, 'count': 1}, 3: {'mean': 8471.722137179819, 'std': 951.1093605219069, 'count': 6}, 4: {'mean': 9523.809523809523, 'std': 0.0, 'count': 1}}\n",
      "{2: {'mean': 3863.8012733035357, 'std': 405.2872025065846, 'count': 12}, 3: {'mean': 4006.582535464375, 'std': 468.023038908377, 'count': 31}}\n",
      "{1: {'mean': 4302.184466019417, 'std': 552.1844660194174, 'count': 2}, 2: {'mean': 4445.805384477064, 'std': 526.9310898804862, 'count': 8}, 3: {'mean': 4254.328104328105, 'std': 505.922183603648, 'count': 4}, 4: {'mean': 4047.6190476190477, 'std': 0.0, 'count': 1}, 8: {'mean': 4666.666666666667, 'std': 0.0, 'count': 1}}\n",
      "{2: {'mean': 3813.947572153106, 'std': 244.23665886444502, 'count': 19}, 3: {'mean': 3815.8530659565145, 'std': 403.8116627539011, 'count': 11}}\n",
      "{2: {'mean': 2887.892987573868, 'std': 0.47920744469383775, 'count': 11}, 3: {'mean': 2863.160206574431, 'std': 59.9654742104211, 'count': 7}}\n",
      "{3: {'mean': 8565.382032363164, 'std': 1314.9620051314946, 'count': 3}, 4: {'mean': 8564.836466843257, 'std': 717.6221010374835, 'count': 6}}\n",
      "{2: {'mean': 5837.4926933902225, 'std': 903.6255944977522, 'count': 19}, 3: {'mean': 5795.407173862258, 'std': 1201.0625471599164, 'count': 13}, 4: {'mean': 6680.252598242926, 'std': 2089.3417875296827, 'count': 7}, 5: {'mean': 8974.358974358975, 'std': 0.0, 'count': 1}}\n",
      "{1: {'mean': 5155.722891566265, 'std': 166.41859289793305, 'count': 4}, 2: {'mean': 5034.160717791255, 'std': 199.14597741069483, 'count': 23}, 3: {'mean': 4995.78214595029, 'std': 304.7321376982579, 'count': 22}}\n",
      "{1: {'mean': 7092.198581560284, 'std': 0.0, 'count': 1}, 2: {'mean': 5155.724160108177, 'std': 750.6157631590067, 'count': 18}, 3: {'mean': 5069.118281564101, 'std': 895.7302193450796, 'count': 8}}\n",
      "{1: {'mean': 16831.68316831683, 'std': 0.0, 'count': 1}, 2: {'mean': 9792.423102012144, 'std': 3818.3998448404645, 'count': 5}, 3: {'mean': 7141.805995187703, 'std': 751.0857983228121, 'count': 3}, 4: {'mean': 10827.574839290468, 'std': 1880.2064182378372, 'count': 2}}\n",
      "{1: {'mean': 2520.6090114704184, 'std': 140.15700556082749, 'count': 19}, 2: {'mean': 2822.693874744619, 'std': 410.55761448180084, 'count': 37}, 3: {'mean': 2863.283055028292, 'std': 433.03552434529536, 'count': 25}}\n",
      "{2: {'mean': 3613.5088756107502, 'std': 502.5086800433043, 'count': 24}, 3: {'mean': 4500.644242719408, 'std': 1005.213241509808, 'count': 9}, 4: {'mean': 5963.333333333333, 'std': 0.0, 'count': 1}, 6: {'mean': 4285.714285714285, 'std': 0.0, 'count': 1}}\n",
      "{3: {'mean': 4090.4654941407116, 'std': 246.87536752515462, 'count': 4}, 4: {'mean': 4568.837506464278, 'std': 449.90860011916783, 'count': 7}}\n",
      "{2: {'mean': 3979.526682999282, 'std': 296.21104114438486, 'count': 3}, 3: {'mean': 4242.424242424242, 'std': 757.5757575757575, 'count': 2}, 4: {'mean': 3252.032520325203, 'std': 0.0, 'count': 1}, 5: {'mean': 3645.833333333333, 'std': 395.83333333333326, 'count': 2}, 8: {'mean': 2750.0, 'std': 0.0, 'count': 1}}\n",
      "{2: {'mean': 4680.6659357581775, 'std': 906.7207027292567, 'count': 14}, 3: {'mean': 4209.541795721919, 'std': 468.54274526277595, 'count': 14}}\n",
      "{2: {'mean': 4782.163531612381, 'std': 528.754856051744, 'count': 12}, 3: {'mean': 4993.1936034011, 'std': 599.6867241072546, 'count': 10}, 4: {'mean': 8645.533141210375, 'std': 0.0, 'count': 1}}\n",
      "{2: {'mean': 9450.335685771604, 'std': 1592.310446826406, 'count': 3}, 3: {'mean': 11852.598087462115, 'std': 1661.385526814624, 'count': 4}, 4: {'mean': 11016.71535215839, 'std': 375.6897111327489, 'count': 2}}\n",
      "{2: {'mean': 8230.365020192607, 'std': 2084.870283562963, 'count': 5}, 3: {'mean': 7780.757079649942, 'std': 1186.6163940265649, 'count': 4}}\n",
      "{3: {'mean': 19562.04239043375, 'std': 1371.647354515775, 'count': 8}, 4: {'mean': 22399.47110781565, 'std': 2068.0898222124456, 'count': 3}}\n",
      "{1: {'mean': 5790.960451977401, 'std': 0.0, 'count': 1}, 2: {'mean': 5113.831187981814, 'std': 479.0067310357899, 'count': 7}, 3: {'mean': 5032.659409020218, 'std': 255.05443234836684, 'count': 2}}\n",
      "{2: {'mean': 5117.938928017428, 'std': 689.5131286166418, 'count': 6}, 3: {'mean': 5324.248120300752, 'std': 390.03759398496277, 'count': 2}}\n",
      "{1: {'mean': 4559.695263559465, 'std': 476.6579147263085, 'count': 6}, 2: {'mean': 4952.787098845229, 'std': 492.9480389583671, 'count': 13}, 3: {'mean': 4890.358050126224, 'std': 472.365852060537, 'count': 11}, 5: {'mean': 4166.666666666667, 'std': 0.0, 'count': 1}}\n",
      "{1: {'mean': 3902.439024390244, 'std': 0.0, 'count': 1}, 2: {'mean': 4326.739586439992, 'std': 1082.6324000628515, 'count': 9}, 3: {'mean': 4404.02899440667, 'std': 596.4161034790261, 'count': 5}}\n",
      "{2: {'mean': 4271.409551033765, 'std': 572.5384233681566, 'count': 19}, 3: {'mean': 5934.221068512782, 'std': 1020.763160342317, 'count': 7}}\n",
      "{1: {'mean': 7492.354740061162, 'std': 0.0, 'count': 1}, 3: {'mean': 6861.368629625442, 'std': 792.385913681854, 'count': 3}, 4: {'mean': 7306.716419287801, 'std': 1508.6011290881638, 'count': 4}}\n",
      "{2: {'mean': 4009.260011822078, 'std': 22.428701187061954, 'count': 6}, 3: {'mean': 3999.4695049973843, 'std': 0.3068175498332698, 'count': 4}}\n",
      "{1: {'mean': 3193.939393939394, 'std': 145.7068518808643, 'count': 3}, 2: {'mean': 3695.715772231204, 'std': 513.1647769886983, 'count': 14}, 3: {'mean': 3920.463690699665, 'std': 643.1324346449559, 'count': 7}}\n",
      "{1: {'mean': 9445.779914529914, 'std': 948.6331997307019, 'count': 3}, 2: {'mean': 7329.742881854468, 'std': 773.8913545349003, 'count': 3}, 3: {'mean': 8601.445470741792, 'std': 2229.6988314054834, 'count': 14}}\n",
      "{2: {'mean': 3322.6608898241893, 'std': 544.174150775161, 'count': 8}, 3: {'mean': 3313.5675560999007, 'std': 817.0930121375212, 'count': 3}, 4: {'mean': 2518.5185185185187, 'std': 0.0, 'count': 1}}\n",
      "{2: {'mean': 6352.512219589275, 'std': 547.9667498496266, 'count': 7}, 3: {'mean': 6961.117262886345, 'std': 262.90361114936303, 'count': 8}, 4: {'mean': 6621.198451923327, 'std': 53.43624500234158, 'count': 3}}\n",
      "{1: {'mean': 4328.254265940121, 'std': 1179.3241254681986, 'count': 20}, 2: {'mean': 4223.573582626289, 'std': 1191.7527084954636, 'count': 179}, 3: {'mean': 4585.774797046123, 'std': 1204.6558833568274, 'count': 75}, 4: {'mean': 5201.660222644956, 'std': 931.5912756321039, 'count': 5}}\n",
      "{1: {'mean': 4265.886287625418, 'std': 1022.5047171241084, 'count': 3}, 2: {'mean': 3529.072049858916, 'std': 979.4555805604972, 'count': 71}, 3: {'mean': 3506.772021417667, 'std': 922.6326003596901, 'count': 43}, 4: {'mean': 4670.660358762074, 'std': 304.44720567914965, 'count': 4}}\n",
      "{1: {'mean': 4522.306447815004, 'std': 635.4094144771141, 'count': 7}, 2: {'mean': 4842.116757845357, 'std': 498.05198255206807, 'count': 33}, 3: {'mean': 4896.914203243923, 'std': 508.1848167622998, 'count': 19}}\n",
      "{1: {'mean': 11160.714285714286, 'std': 0.0, 'count': 1}, 2: {'mean': 9256.913801828407, 'std': 830.6145881127068, 'count': 4}, 3: {'mean': 9845.92937034917, 'std': 1554.2575050192804, 'count': 16}, 4: {'mean': 9580.08324073647, 'std': 1086.7606066839614, 'count': 6}}\n",
      "{2: {'mean': 4065.297171500179, 'std': 228.5624776226282, 'count': 2}, 3: {'mean': 4628.867942650349, 'std': 354.0596141419346, 'count': 6}}\n",
      "{2: {'mean': 4567.292659219588, 'std': 35.16727856616533, 'count': 9}, 3: {'mean': 4580.959776242796, 'std': 23.67431495380781, 'count': 6}}\n",
      "{3: {'mean': 15888.888888888889, 'std': 1888.8888888888887, 'count': 2}, 4: {'mean': 17361.111111111113, 'std': 982.092751647982, 'count': 3}, 6: {'mean': 14583.333333333334, 'std': 2083.333333333334, 'count': 2}}\n",
      "{2: {'mean': 4170.472980827493, 'std': 176.69088584246873, 'count': 4}, 3: {'mean': 4351.161786961001, 'std': 159.71264119139414, 'count': 5}, 4: {'mean': 4514.435695538058, 'std': 0.0, 'count': 1}}\n",
      "{1: {'mean': 3201.9704433497536, 'std': 0.0, 'count': 2}, 2: {'mean': 4187.198530290943, 'std': 615.4290329261535, 'count': 18}, 3: {'mean': 4243.533192141064, 'std': 545.165771797653, 'count': 14}, 4: {'mean': 4433.333333333333, 'std': 286.74417556808754, 'count': 3}}\n",
      "{2: {'mean': 5874.64951344219, 'std': 208.0884384424191, 'count': 3}, 3: {'mean': 6639.764255543528, 'std': 469.4210339773065, 'count': 22}, 4: {'mean': 6835.898556082042, 'std': 333.3960060843011, 'count': 4}}\n",
      "{2: {'mean': 5018.120021443538, 'std': 616.24268015249, 'count': 4}, 3: {'mean': 5794.291811767968, 'std': 701.7168143003905, 'count': 7}, 4: {'mean': 4562.5, 'std': 312.5, 'count': 2}, 5: {'mean': 5486.381322957199, 'std': 0.0, 'count': 1}}\n",
      "{2: {'mean': 3938.0120307679967, 'std': 369.34106505379697, 'count': 12}, 3: {'mean': 4582.331403008516, 'std': 552.308800975027, 'count': 8}, 4: {'mean': 4750.0, 'std': 0.0, 'count': 1}}\n",
      "{2: {'mean': 24166.666666666668, 'std': 0.0, 'count': 1}, 3: {'mean': 19326.37335321899, 'std': 807.8548347004726, 'count': 2}, 5: {'mean': 24509.803921568626, 'std': 0.0, 'count': 1}}\n",
      "{2: {'mean': 6163.1658953574815, 'std': 1933.415341710632, 'count': 5}, 3: {'mean': 6718.224920185002, 'std': 1116.5076173869681, 'count': 6}, 4: {'mean': 9791.666666666668, 'std': 208.33333333333303, 'count': 2}}\n",
      "{2: {'mean': 6827.946263617467, 'std': 966.9691792014793, 'count': 8}, 3: {'mean': 7143.374896079018, 'std': 1182.9430585167863, 'count': 4}, 4: {'mean': 4736.8421052631575, 'std': 0.0, 'count': 1}}\n",
      "{2: {'mean': 4739.236148532775, 'std': 918.5716205568192, 'count': 32}, 3: {'mean': 4924.349382432697, 'std': 1111.9833342619856, 'count': 11}, 5: {'mean': 5833.333333333333, 'std': 0.0, 'count': 1}}\n",
      "{1: {'mean': 6608.695652173913, 'std': 0.0, 'count': 1}, 2: {'mean': 4442.431489020303, 'std': 902.0297287001697, 'count': 81}, 3: {'mean': 5508.10108742305, 'std': 934.2074392416823, 'count': 39}, 4: {'mean': 6117.534949943386, 'std': 823.7488337812644, 'count': 6}}\n",
      "{2: {'mean': 6137.381184467408, 'std': 760.3945168588826, 'count': 31}, 3: {'mean': 6733.500810366982, 'std': 1010.6906117602452, 'count': 34}, 4: {'mean': 6806.220763959648, 'std': 749.5046631700119, 'count': 6}}\n",
      "{2: {'mean': 6682.792074857584, 'std': 1166.867220004498, 'count': 43}, 3: {'mean': 7043.160774820713, 'std': 1086.4743742344735, 'count': 63}, 4: {'mean': 8020.904932434183, 'std': 883.2866989126516, 'count': 24}}\n",
      "{2: {'mean': 8716.498778998779, 'std': 1081.9219617716674, 'count': 4}, 3: {'mean': 9517.562179481964, 'std': 939.9188933583704, 'count': 13}, 4: {'mean': 8861.240238842134, 'std': 978.6206485541776, 'count': 4}, 5: {'mean': 8320.802005012532, 'std': 373.56532189325577, 'count': 3}}\n",
      "{2: {'mean': 6157.975113248077, 'std': 728.8922268349711, 'count': 5}, 3: {'mean': 6681.438863622023, 'std': 564.0312879402329, 'count': 27}, 4: {'mean': 6916.666666666667, 'std': 0.0, 'count': 1}, 6: {'mean': 7000.0, 'std': 0.0, 'count': 1}}\n",
      "{2: {'mean': 4442.194358592492, 'std': 329.76870976065265, 'count': 36}, 3: {'mean': 4809.551783721774, 'std': 731.3786843294923, 'count': 9}, 5: {'mean': 5000.0, 'std': 0.0, 'count': 1}}\n",
      "{2: {'mean': 5664.294405842, 'std': 916.5454988680965, 'count': 55}, 3: {'mean': 6075.625953526699, 'std': 805.6532113494873, 'count': 70}, 4: {'mean': 6628.577988672892, 'std': 1559.2214867106609, 'count': 3}, 5: {'mean': 7352.941176470588, 'std': 0.0, 'count': 1}, 8: {'mean': 5000.0, 'std': 0.0, 'count': 1}}\n",
      "{1: {'mean': 5843.393365544693, 'std': 878.1416877495989, 'count': 3}, 2: {'mean': 5576.467924050863, 'std': 532.1742679272731, 'count': 24}, 3: {'mean': 5550.490547257157, 'std': 500.1454767018147, 'count': 20}, 4: {'mean': 5295.067358316983, 'std': 736.8679318376135, 'count': 4}, 5: {'mean': 6666.666666666667, 'std': 0.0, 'count': 1}}\n"
     ]
    },
    {
     "name": "stdout",
     "output_type": "stream",
     "text": [
      "{1: {'mean': 4320.0, 'std': 0.0, 'count': 1}, 2: {'mean': 4129.887794312633, 'std': 508.3758300561651, 'count': 19}, 3: {'mean': 4621.353464796817, 'std': 511.44214228185155, 'count': 9}, 5: {'mean': 3333.3333333333335, 'std': 0.0, 'count': 1}}\n",
      "{2: {'mean': 4195.182184632629, 'std': 472.40961899077587, 'count': 20}, 3: {'mean': 3953.2300960525395, 'std': 297.2652996762272, 'count': 3}, 6: {'mean': 5263.1578947368425, 'std': 0.0, 'count': 1}}\n",
      "{1: {'mean': 4386.46711095142, 'std': 463.4471257552693, 'count': 2}, 2: {'mean': 4720.617954190519, 'std': 721.7719786205827, 'count': 40}, 3: {'mean': 4427.642898747908, 'std': 504.41094830524696, 'count': 12}, 4: {'mean': 5039.439088518843, 'std': 0.0, 'count': 1}}\n",
      "{1: {'mean': 4799.375, 'std': 199.375, 'count': 2}, 2: {'mean': 4946.270140994979, 'std': 834.9741219397788, 'count': 19}, 3: {'mean': 5382.16497047624, 'std': 896.2587581277162, 'count': 15}, 4: {'mean': 3750.0, 'std': 0.0, 'count': 1}}\n",
      "{2: {'mean': 7132.2680042005195, 'std': 2396.0521058736667, 'count': 4}, 3: {'mean': 9162.737420366177, 'std': 1759.0622093546074, 'count': 9}, 4: {'mean': 10348.082968582745, 'std': 1380.1349845751727, 'count': 5}, 5: {'mean': 10041.666666666666, 'std': 375.0, 'count': 2}}\n",
      "{1: {'mean': 4518.664047151277, 'std': 0.0, 'count': 1}, 2: {'mean': 3174.4098068983926, 'std': 410.28654938450563, 'count': 7}, 3: {'mean': 3600.5359456638253, 'std': 751.6624895989765, 'count': 8}}\n",
      "{1: {'mean': 4565.217391304348, 'std': 0.0, 'count': 1}, 2: {'mean': 5644.8823512611825, 'std': 1217.5145047356148, 'count': 9}, 3: {'mean': 5935.228923028032, 'std': 932.1095078753606, 'count': 12}, 4: {'mean': 5916.666666666666, 'std': 583.3333333333335, 'count': 2}, 5: {'mean': 6136.363636363636, 'std': 1136.3636363636365, 'count': 2}}\n",
      "{1: {'mean': 5567.760150976738, 'std': 1222.422984550909, 'count': 3}, 2: {'mean': 5327.300781142056, 'std': 1646.506992767097, 'count': 28}, 3: {'mean': 6041.97465739293, 'std': 1516.4558507527224, 'count': 12}, 4: {'mean': 6608.14606741573, 'std': 1435.7649478084438, 'count': 4}}\n",
      "{2: {'mean': 5315.980629539952, 'std': 702.3075360678213, 'count': 4}, 3: {'mean': 5770.6023290800695, 'std': 579.7626344235805, 'count': 2}, 4: {'mean': 6071.428571428572, 'std': 0.0, 'count': 1}, 6: {'mean': 5681.818181818182, 'std': 0.0, 'count': 1}}\n",
      "{3: {'mean': 4935.497846683894, 'std': 605.1521192031312, 'count': 6}, 4: {'mean': 5293.33921482135, 'std': 0.0, 'count': 1}}\n",
      "{3: {'mean': 7091.009765176507, 'std': 410.88523168233667, 'count': 11}, 4: {'mean': 7574.388209121246, 'std': 450.32403519924213, 'count': 8}, 5: {'mean': 7753.573598412542, 'std': 47.31793204808173, 'count': 2}}\n",
      "{1: {'mean': 9254.901960784313, 'std': 3358.3833829030023, 'count': 3}, 2: {'mean': 9702.969857242164, 'std': 1533.2274929574173, 'count': 11}, 3: {'mean': 11041.107173918466, 'std': 2774.468606570783, 'count': 15}, 4: {'mean': 14277.01762523191, 'std': 4557.109914183873, 'count': 7}, 5: {'mean': 19444.444444444445, 'std': 0.0, 'count': 1}, 6: {'mean': 19791.666666666668, 'std': 0.0, 'count': 1}, 8: {'mean': 18461.53846153846, 'std': 0.0, 'count': 1}}\n",
      "{1: {'mean': 5263.492063492064, 'std': 1239.2261826930576, 'count': 3}, 2: {'mean': 5589.968233129655, 'std': 1356.1400342506647, 'count': 20}, 3: {'mean': 5771.038658132234, 'std': 1375.3186399773087, 'count': 18}, 4: {'mean': 5386.813709590226, 'std': 819.3589330387586, 'count': 5}, 6: {'mean': 3777.777777777778, 'std': 0.0, 'count': 1}, 7: {'mean': 5925.925925925926, 'std': 0.0, 'count': 1}}\n",
      "{2: {'mean': 6091.129602671459, 'std': 599.3075875190721, 'count': 22}, 3: {'mean': 6284.648883142055, 'std': 740.9225790124145, 'count': 27}, 4: {'mean': 7021.243751601422, 'std': 1024.758486963879, 'count': 3}}\n",
      "{1: {'mean': 6656.504065040651, 'std': 856.2509031207591, 'count': 4}, 2: {'mean': 6419.206421173111, 'std': 837.6548293126691, 'count': 12}, 3: {'mean': 6351.724037140902, 'std': 708.5723247593588, 'count': 19}, 4: {'mean': 7500.0, 'std': 0.0, 'count': 1}}\n",
      "{1: {'mean': 4866.666666666666, 'std': 466.6666666666665, 'count': 2}, 2: {'mean': 5327.76807092474, 'std': 253.50233403050984, 'count': 3}, 3: {'mean': 4804.029304029304, 'std': 42.12454212454213, 'count': 2}}\n",
      "{2: {'mean': 5380.205408855938, 'std': 610.3583738561084, 'count': 19}, 3: {'mean': 5118.341784477213, 'std': 569.9332571864948, 'count': 22}}\n",
      "{2: {'mean': 4351.406771578446, 'std': 93.03767286599896, 'count': 2}, 3: {'mean': 6895.570698128242, 'std': 1721.3302715968377, 'count': 5}, 4: {'mean': 10800.0, 'std': 0.0, 'count': 1}, 5: {'mean': 12962.962962962964, 'std': 0.0, 'count': 1}}\n",
      "{1: {'mean': 3496.4985994397757, 'std': 425.0700280112044, 'count': 2}, 2: {'mean': 4334.439122287065, 'std': 915.4655005942303, 'count': 51}, 3: {'mean': 4336.138870988099, 'std': 870.6841755100141, 'count': 10}, 4: {'mean': 6848.631018008085, 'std': 68.03564865858152, 'count': 2}, 6: {'mean': 4159.883720930233, 'std': 90.11627906976742, 'count': 2}, 7: {'mean': 3928.5714285714284, 'std': 0.0, 'count': 1}, 9: {'mean': 4347.826086956522, 'std': 0.0, 'count': 1}}\n",
      "{2: {'mean': 6376.103144106457, 'std': 1495.108114630899, 'count': 5}, 3: {'mean': 5422.047214586422, 'std': 1213.899445999799, 'count': 5}}\n",
      "{1: {'mean': 4400.000000000001, 'std': 0.0, 'count': 1}, 2: {'mean': 4953.281534393949, 'std': 838.7316907969797, 'count': 12}, 3: {'mean': 5463.116924408958, 'std': 1023.8107822041367, 'count': 17}, 4: {'mean': 5033.333333333334, 'std': 566.6666666666665, 'count': 2}}\n",
      "{2: {'mean': 4174.759774030046, 'std': 487.0889998502448, 'count': 26}, 3: {'mean': 4487.237700661079, 'std': 479.5564957704774, 'count': 19}, 4: {'mean': 4390.180878552972, 'std': 194.09107967146167, 'count': 3}}\n",
      "{1: {'mean': 5190.476190476191, 'std': 178.1741612749495, 'count': 3}, 2: {'mean': 5385.964912280701, 'std': 574.6785738301475, 'count': 6}, 3: {'mean': 5067.840459935322, 'std': 267.71813441909836, 'count': 5}}\n",
      "{2: {'mean': 5675.825039659637, 'std': 894.8552060211639, 'count': 5}, 3: {'mean': 6016.671751785143, 'std': 868.6732750797345, 'count': 4}, 4: {'mean': 6352.941176470588, 'std': 0.0, 'count': 1}, 6: {'mean': 6654.835847382431, 'std': 0.0, 'count': 1}}\n",
      "{1: {'mean': 6393.44262295082, 'std': 0.0, 'count': 1}, 2: {'mean': 4600.862878074762, 'std': 691.1688086769439, 'count': 13}, 3: {'mean': 5540.391844954946, 'std': 782.6421967834364, 'count': 8}}\n",
      "{2: {'mean': 5174.290674954962, 'std': 959.8682778268459, 'count': 8}, 3: {'mean': 5403.789409758371, 'std': 1008.9411534967034, 'count': 5}, 4: {'mean': 7043.982789343301, 'std': 850.7540527619626, 'count': 2}}\n",
      "{2: {'mean': 4617.214043035106, 'std': 371.95620126318187, 'count': 13}, 3: {'mean': 4613.88537985688, 'std': 442.39294983399617, 'count': 7}}\n",
      "{1: {'mean': 8428.57142857143, 'std': 0.0, 'count': 1}, 2: {'mean': 6384.469696969697, 'std': 537.9688091548688, 'count': 4}, 4: {'mean': 6896.551724137931, 'std': 0.0, 'count': 1}, 5: {'mean': 6962.25766229163, 'std': 2041.3437782846004, 'count': 2}}\n",
      "{1: {'mean': 2916.3934426229507, 'std': 116.39344262295072, 'count': 2}, 2: {'mean': 3227.8474191127148, 'std': 607.9293263487696, 'count': 15}, 3: {'mean': 3237.2655812105695, 'std': 861.3497493389445, 'count': 7}}\n",
      "{1: {'mean': 5096.602546756389, 'std': 417.85606461579323, 'count': 5}, 2: {'mean': 4604.465395835363, 'std': 480.2703857860582, 'count': 11}, 3: {'mean': 4969.70888132023, 'std': 588.0621061875769, 'count': 10}, 4: {'mean': 5633.802816901409, 'std': 0.0, 'count': 1}}\n",
      "{1: {'mean': 5119.046144238704, 'std': 440.4864827192896, 'count': 20}, 2: {'mean': 5076.61097773778, 'std': 519.9588688689665, 'count': 71}, 3: {'mean': 4882.675818502869, 'std': 566.9559827376457, 'count': 96}, 4: {'mean': 5754.468754468755, 'std': 642.9894850839651, 'count': 3}}\n",
      "{2: {'mean': 5781.957506095438, 'std': 175.0239571773057, 'count': 6}, 3: {'mean': 6165.072841663136, 'std': 431.9125650497451, 'count': 3}, 4: {'mean': 5885.74639875218, 'std': 555.9126968865866, 'count': 3}}\n",
      "{2: {'mean': 6149.479659413434, 'std': 0.0, 'count': 1}, 3: {'mean': 7548.041260232853, 'std': 960.2983417649926, 'count': 6}}\n",
      "{1: {'mean': 5690.909090909091, 'std': 0.0, 'count': 1}, 2: {'mean': 5584.57638412496, 'std': 830.9704121531988, 'count': 30}, 3: {'mean': 5761.689498642713, 'std': 998.0178355092115, 'count': 32}, 4: {'mean': 7188.150786398397, 'std': 888.4937505820675, 'count': 6}}\n",
      "{2: {'mean': 6041.583372234744, 'std': 653.8682870762742, 'count': 6}, 3: {'mean': 5916.740546308524, 'std': 721.5559950179522, 'count': 5}, 4: {'mean': 6387.757738248516, 'std': 205.06926597089296, 'count': 2}}\n",
      "{2: {'mean': 5500.0, 'std': 0.0, 'count': 1}, 3: {'mean': 5791.147903867093, 'std': 283.9730475517742, 'count': 18}}\n",
      "{1: {'mean': 5208.333333333333, 'std': 0.0, 'count': 1}, 2: {'mean': 4651.883076314409, 'std': 642.90451560445, 'count': 13}, 3: {'mean': 5264.778325123152, 'std': 92.36453201970426, 'count': 2}}\n",
      "{1: {'mean': 5646.853146853147, 'std': 646.8531468531469, 'count': 2}, 2: {'mean': 5274.4401769080805, 'std': 359.1996745553106, 'count': 7}, 3: {'mean': 5460.627817637033, 'std': 264.58222613843435, 'count': 3}}\n",
      "{1: {'mean': 4102.12346939793, 'std': 591.7443122845393, 'count': 9}, 2: {'mean': 4390.756355620633, 'std': 671.539951835691, 'count': 30}, 3: {'mean': 4032.7478567837916, 'std': 657.8355516907933, 'count': 11}, 5: {'mean': 4000.0, 'std': 0.0, 'count': 1}, 8: {'mean': 4333.333333333333, 'std': 0.0, 'count': 1}}\n",
      "{1: {'mean': 3416.085803355814, 'std': 180.47203987792676, 'count': 3}, 2: {'mean': 4161.885658225768, 'std': 587.9649928204554, 'count': 20}, 3: {'mean': 4294.409672655811, 'std': 599.879656057118, 'count': 3}}\n",
      "{1: {'mean': 3250.0, 'std': 0.0, 'count': 1}, 2: {'mean': 3285.4634212085666, 'std': 199.6880849428014, 'count': 7}, 3: {'mean': 3203.254608294931, 'std': 173.2774907327058, 'count': 5}}\n",
      "{1: {'mean': 4000.0, 'std': 0.0, 'count': 1}, 2: {'mean': 4464.71665687586, 'std': 329.5744118140759, 'count': 10}, 3: {'mean': 4663.38431038836, 'std': 430.5214561404485, 'count': 6}, 5: {'mean': 4753.086419753086, 'std': 174.5942669596414, 'count': 3}}\n",
      "{2: {'mean': 4568.752583055242, 'std': 504.85018578262014, 'count': 7}, 3: {'mean': 5932.628698743195, 'std': 1418.7220163805841, 'count': 4}}\n",
      "{1: {'mean': 8091.603053435115, 'std': 0.0, 'count': 1}, 2: {'mean': 5375.328083989501, 'std': 1663.9012335209106, 'count': 3}, 3: {'mean': 10620.87912087912, 'std': 2379.120879120879, 'count': 2}}\n",
      "{2: {'mean': 10067.114093959732, 'std': 0.0, 'count': 1}, 3: {'mean': 10018.319753621405, 'std': 1044.2283661863166, 'count': 5}, 4: {'mean': 10893.922389045523, 'std': 716.3686036821398, 'count': 3}}\n",
      "{1: {'mean': 5159.365079365079, 'std': 1065.8231736741996, 'count': 3}, 2: {'mean': 4475.604638481574, 'std': 211.3056933959039, 'count': 12}, 3: {'mean': 6530.65790795312, 'std': 1644.139418598545, 'count': 5}, 7: {'mean': 3460.912052117264, 'std': 0.0, 'count': 1}}\n",
      "{2: {'mean': 6561.085972850678, 'std': 0.0, 'count': 1}, 3: {'mean': 7154.421202441103, 'std': 858.8014581243333, 'count': 3}, 4: {'mean': 10420.226018864567, 'std': 335.8570408452007, 'count': 3}}\n",
      "{2: {'mean': 9519.730600403604, 'std': 1946.4988338411724, 'count': 23}, 3: {'mean': 9691.757083813118, 'std': 2332.1057526607897, 'count': 26}, 4: {'mean': 12567.348894001134, 'std': 1286.9271971129865, 'count': 5}}\n",
      "{2: {'mean': 3872.5655216562704, 'std': 177.44245428443105, 'count': 6}, 3: {'mean': 3738.798485722216, 'std': 263.03140319128806, 'count': 6}}\n",
      "{1: {'mean': 4892.344497607655, 'std': 107.65550239234472, 'count': 2}, 2: {'mean': 4854.565077877619, 'std': 214.79334119523998, 'count': 25}, 3: {'mean': 5472.538361819055, 'std': 749.1480375203159, 'count': 27}, 4: {'mean': 6622.099164733684, 'std': 140.61768325220237, 'count': 2}, 5: {'mean': 5729.166666666667, 'std': 0.0, 'count': 1}}\n",
      "{1: {'mean': 4583.333333333333, 'std': 0.0, 'count': 1}, 2: {'mean': 4381.624103221706, 'std': 292.010615730984, 'count': 19}, 3: {'mean': 4520.12211215998, 'std': 361.70349731102834, 'count': 4}, 4: {'mean': 5428.571428571428, 'std': 0.0, 'count': 1}}\n",
      "{1: {'mean': 7396.870554765292, 'std': 0.0, 'count': 1}, 2: {'mean': 5148.4513864375285, 'std': 1338.7834520110716, 'count': 15}, 3: {'mean': 5146.072400881765, 'std': 968.4512368875262, 'count': 19}, 4: {'mean': 5324.675324675325, 'std': 0.0, 'count': 1}}\n",
      "{1: {'mean': 9176.470588235294, 'std': 0.0, 'count': 1}, 2: {'mean': 5400.1387604070305, 'std': 402.12974684506605, 'count': 3}, 3: {'mean': 5822.598600508905, 'std': 555.2046988018691, 'count': 4}, 4: {'mean': 5719.897959183673, 'std': 1230.1020408163267, 'count': 2}, 7: {'mean': 4857.750896057347, 'std': 247.93337659741678, 'count': 3}}\n",
      "{2: {'mean': 6698.43287978371, 'std': 1531.9654271563063, 'count': 17}, 3: {'mean': 7331.054453361016, 'std': 1214.518355980384, 'count': 22}, 4: {'mean': 8365.231318918251, 'std': 1028.8263996833173, 'count': 3}}\n",
      "{1: {'mean': 4812.0300751879695, 'std': 0.0, 'count': 1}, 2: {'mean': 5047.7294422212935, 'std': 827.4528669677713, 'count': 7}, 3: {'mean': 4888.392857142857, 'std': 825.8928571428573, 'count': 2}}\n",
      "{1: {'mean': 9079.301075268817, 'std': 1337.3655913978491, 'count': 2}, 2: {'mean': 6250.0, 'std': 0.0, 'count': 1}, 3: {'mean': 10833.333333333334, 'std': 0.0, 'count': 1}, 5: {'mean': 4464.285714285715, 'std': 0.0, 'count': 1}}\n",
      "{2: {'mean': 6489.713291330107, 'std': 297.6789512592486, 'count': 22}, 3: {'mean': 6841.666666666666, 'std': 91.66666666666652, 'count': 2}}\n",
      "{3: {'mean': 6502.821516842215, 'std': 338.4280109369237, 'count': 15}, 4: {'mean': 6948.373789156925, 'std': 137.69782791285036, 'count': 3}}\n",
      "{2: {'mean': 4852.21635737729, 'std': 485.0957216437849, 'count': 8}, 3: {'mean': 4739.009734462758, 'std': 584.121088892974, 'count': 6}, 4: {'mean': 6200.0, 'std': 0.0, 'count': 1}, 5: {'mean': 7200.0, 'std': 0.0, 'count': 1}, 6: {'mean': 3916.6666666666665, 'std': 0.0, 'count': 1}}\n",
      "{1: {'mean': 4794.520547945205, 'std': 0.0, 'count': 1}, 2: {'mean': 4655.718115723707, 'std': 376.41780517833274, 'count': 12}, 3: {'mean': 4870.419072507448, 'std': 464.96928202282703, 'count': 9}}\n",
      "{2: {'mean': 7239.819004524887, 'std': 0.0, 'count': 1}, 3: {'mean': 8581.201137171287, 'std': 585.46552949538, 'count': 2}, 4: {'mean': 11682.539682539682, 'std': 1650.793650793651, 'count': 2}}\n",
      "{2: {'mean': 4778.701173252796, 'std': 525.1161356942022, 'count': 8}, 3: {'mean': 5557.259722141612, 'std': 756.1882822123313, 'count': 5}}\n",
      "{2: {'mean': 4450.0450218933265, 'std': 715.3637519675409, 'count': 10}, 3: {'mean': 4425.035578878555, 'std': 860.0436344837372, 'count': 4}}\n",
      "{1: {'mean': 10574.590792191524, 'std': 2309.1199297340045, 'count': 5}, 2: {'mean': 10448.283856388975, 'std': 2127.1295449855347, 'count': 11}, 3: {'mean': 12896.335169301065, 'std': 1734.1363331722873, 'count': 22}, 4: {'mean': 11241.379310344826, 'std': 1668.290924746567, 'count': 3}, 7: {'mean': 18333.333333333332, 'std': 0.0, 'count': 1}}\n",
      "{1: {'mean': 6443.713889143229, 'std': 707.710000973837, 'count': 5}, 2: {'mean': 5343.012421942325, 'std': 805.7151229412378, 'count': 71}, 3: {'mean': 5765.145600020765, 'std': 889.5759940637467, 'count': 53}, 4: {'mean': 6160.540698577995, 'std': 807.182049168838, 'count': 20}}\n",
      "{2: {'mean': 5437.351523296367, 'std': 285.9823054456937, 'count': 14}, 3: {'mean': 5057.999244463333, 'std': 256.1953829260381, 'count': 3}}\n",
      "{3: {'mean': 8750.0, 'std': 1250.0, 'count': 2}, 4: {'mean': 8055.555555555556, 'std': 0.0, 'count': 1}}\n",
      "{1: {'mean': 3687.5, 'std': 0.0, 'count': 1}, 2: {'mean': 3682.9249609262856, 'std': 423.6831720283269, 'count': 5}, 3: {'mean': 3748.827506277767, 'std': 314.5094797917012, 'count': 3}, 9: {'mean': 4200.0, 'std': 0.0, 'count': 1}}\n",
      "{2: {'mean': 4633.305616995026, 'std': 352.4310127906283, 'count': 7}, 3: {'mean': 4802.422395043424, 'std': 125.38772727852572, 'count': 6}}\n",
      "{2: {'mean': 5931.085462733437, 'std': 1214.4226459894464, 'count': 4}, 3: {'mean': 4523.355531891741, 'std': 450.61538528825935, 'count': 7}}\n",
      "{2: {'mean': 5045.13969490634, 'std': 676.0447047409738, 'count': 22}, 3: {'mean': 5062.732413176823, 'std': 665.960341835671, 'count': 12}}\n",
      "{2: {'mean': 4489.826297505917, 'std': 29.998439759192205, 'count': 8}}\n",
      "{2: {'mean': 5086.0370370370365, 'std': 800.8574434434588, 'count': 3}, 3: {'mean': 4229.419325502037, 'std': 445.2318722352784, 'count': 3}, 4: {'mean': 5348.837209302325, 'std': 0.0, 'count': 1}, 5: {'mean': 5200.0, 'std': 0.0, 'count': 1}}\n",
      "{1: {'mean': 5457.622557871108, 'std': 1066.4073158513404, 'count': 3}, 2: {'mean': 6395.988878268282, 'std': 3229.6096758102262, 'count': 16}, 3: {'mean': 5500.568824727776, 'std': 1968.8111694638117, 'count': 17}, 4: {'mean': 12000.0, 'std': 2000.0, 'count': 2}, 5: {'mean': 7200.0, 'std': 0.0, 'count': 1}}\n",
      "{2: {'mean': 5482.312925170068, 'std': 584.353741496599, 'count': 2}, 3: {'mean': 5757.575757575758, 'std': 0.0, 'count': 1}, 4: {'mean': 6235.119047619048, 'std': 193.45238095238074, 'count': 2}}\n",
      "{1: {'mean': 3500.0, 'std': 0.0, 'count': 1}, 2: {'mean': 4493.627819930604, 'std': 461.4406306632376, 'count': 6}, 3: {'mean': 6307.806359887731, 'std': 1811.5738366229782, 'count': 3}, 4: {'mean': 5265.610902466384, 'std': 257.5980819535639, 'count': 2}}\n",
      "{1: {'mean': 7854.609929078014, 'std': 262.38738629341753, 'count': 4}, 2: {'mean': 7379.161208587787, 'std': 622.908546711891, 'count': 3}, 3: {'mean': 6153.846153846154, 'std': 0.0, 'count': 1}}\n",
      "{2: {'mean': 6417.676818637855, 'std': 641.5678764128289, 'count': 4}, 3: {'mean': 5624.607559361702, 'std': 176.28469731669043, 'count': 4}}\n",
      "{1: {'mean': 3750.8127802427566, 'std': 837.10794554603, 'count': 3}, 2: {'mean': 3601.3181568393316, 'std': 896.300794280481, 'count': 5}, 3: {'mean': 4446.286519616966, 'std': 851.8567154201359, 'count': 3}, 10: {'mean': 4000.0, 'std': 0.0, 'count': 1}}\n",
      "{2: {'mean': 4397.856538497696, 'std': 147.59800695684862, 'count': 2}, 3: {'mean': 5323.390108322737, 'std': 476.8505751937556, 'count': 5}, 4: {'mean': 4994.3116788028365, 'std': 83.97863012649077, 'count': 2}}\n",
      "{2: {'mean': 6060.732226936822, 'std': 765.1028054888121, 'count': 8}, 3: {'mean': 6395.974418965156, 'std': 1354.455921644706, 'count': 4}, 4: {'mean': 8088.235294117647, 'std': 0.0, 'count': 1}}\n",
      "{2: {'mean': 6488.103629335819, 'std': 666.8103212209145, 'count': 8}, 3: {'mean': 7732.476289952065, 'std': 1345.392120110078, 'count': 3}, 4: {'mean': 7400.652269436281, 'std': 366.6527535174725, 'count': 19}}\n",
      "{2: {'mean': 5660.295741126656, 'std': 850.7558483817651, 'count': 17}, 3: {'mean': 5877.4699494233955, 'std': 658.1522060566687, 'count': 17}, 4: {'mean': 5568.646870314652, 'std': 445.15305178998693, 'count': 10}, 5: {'mean': 6125.232403718459, 'std': 408.1009296148736, 'count': 2}}\n",
      "{2: {'mean': 6353.3984086808305, 'std': 1620.4038971043078, 'count': 8}, 3: {'mean': 6103.133559343508, 'std': 1413.7555415488598, 'count': 11}, 4: {'mean': 6176.470588235294, 'std': 0.0, 'count': 1}}\n",
      "{2: {'mean': 4275.598787873179, 'std': 847.9319844868568, 'count': 11}, 3: {'mean': 4565.193665374716, 'std': 692.5145408804893, 'count': 5}, 6: {'mean': 4605.263157894737, 'std': 0.0, 'count': 1}}\n",
      "{1: {'mean': 6051.437216338881, 'std': 0.0, 'count': 1}, 2: {'mean': 6163.683079124272, 'std': 522.5629147973473, 'count': 24}, 3: {'mean': 5824.381873424201, 'std': 756.1120640080887, 'count': 5}}\n",
      "{1: {'mean': 3750.0, 'std': 0.0, 'count': 1}, 2: {'mean': 3894.570971024669, 'std': 52.57420919375578, 'count': 14}}\n",
      "{2: {'mean': 4818.300127405684, 'std': 256.46926050536257, 'count': 6}, 3: {'mean': 5161.290322580645, 'std': 0.0, 'count': 2}}\n",
      "{2: {'mean': 4413.125572360624, 'std': 495.68839972297116, 'count': 6}, 3: {'mean': 4049.309690274269, 'std': 111.94750610317409, 'count': 12}}\n",
      "{2: {'mean': 6037.440123978585, 'std': 549.2881072143185, 'count': 6}, 3: {'mean': 8026.0686177976095, 'std': 1550.1613565960947, 'count': 3}, 4: {'mean': 7988.165680473373, 'std': 0.0, 'count': 1}}\n",
      "{2: {'mean': 6166.0990284595455, 'std': 2401.6080179377695, 'count': 11}, 3: {'mean': 7778.645543303137, 'std': 2826.244096724054, 'count': 9}, 4: {'mean': 7888.88888888889, 'std': 3247.030932489435, 'count': 3}, 9: {'mean': 4583.333333333333, 'std': 0.0, 'count': 1}}\n",
      "{1: {'mean': 5122.705314009661, 'std': 456.3742317223319, 'count': 3}, 2: {'mean': 5011.121340348212, 'std': 151.79484867635873, 'count': 21}, 3: {'mean': 4932.080211090551, 'std': 417.32880100292226, 'count': 15}, 4: {'mean': 6015.859994531036, 'std': 0.0, 'count': 1}}\n",
      "{1: {'mean': 4339.6530666138515, 'std': 543.1788208229217, 'count': 5}, 2: {'mean': 4119.938962696688, 'std': 797.0186502026783, 'count': 100}, 3: {'mean': 4316.218711504208, 'std': 847.5993608049711, 'count': 54}, 6: {'mean': 5000.0, 'std': 0.0, 'count': 1}, 8: {'mean': 4930.857487922706, 'std': 1211.8785162729496, 'count': 3}, 9: {'mean': 6666.666666666667, 'std': 0.0, 'count': 1}}\n",
      "{1: {'mean': 11363.636363636364, 'std': 0.0, 'count': 1}, 2: {'mean': 13550.152331961022, 'std': 2381.326440584, 'count': 14}, 3: {'mean': 14106.804544911796, 'std': 2072.9910392276593, 'count': 38}, 4: {'mean': 14262.84451531597, 'std': 2931.157676887876, 'count': 12}, 5: {'mean': 13757.502632502632, 'std': 2306.3948735573995, 'count': 4}, 6: {'mean': 18000.0, 'std': 0.0, 'count': 1}}\n",
      "{2: {'mean': 6830.924551419025, 'std': 533.7908722073457, 'count': 3}, 3: {'mean': 7396.449704142012, 'std': 0.0, 'count': 1}, 4: {'mean': 6315.890833058215, 'std': 707.5762737250174, 'count': 6}}\n",
      "{1: {'mean': 5555.555555555556, 'std': 0.0, 'count': 1}, 2: {'mean': 4606.370427585701, 'std': 1235.7180227997476, 'count': 22}, 3: {'mean': 5708.567918939573, 'std': 1498.853091063744, 'count': 23}, 4: {'mean': 6714.753447126966, 'std': 1179.0391614126816, 'count': 2}}\n",
      "{1: {'mean': 6956.790123456791, 'std': 336.85836171956186, 'count': 3}, 2: {'mean': 4839.4046288157915, 'std': 1129.149258888949, 'count': 31}, 3: {'mean': 4632.116991709435, 'std': 792.226666356907, 'count': 12}, 4: {'mean': 6625.8963789827985, 'std': 894.8595331526992, 'count': 3}, 5: {'mean': 4285.714285714285, 'std': 0.0, 'count': 1}}\n",
      "{1: {'mean': 4541.075143242948, 'std': 72.99003685996877, 'count': 2}, 2: {'mean': 4425.750666858969, 'std': 146.01251895301732, 'count': 3}, 3: {'mean': 4423.733966062286, 'std': 267.25133087914065, 'count': 9}, 4: {'mean': 4449.648711943794, 'std': 0.0, 'count': 1}, 5: {'mean': 4027.777777777778, 'std': 0.0, 'count': 1}}\n",
      "{2: {'mean': 5176.637205930015, 'std': 925.9779110123278, 'count': 19}, 3: {'mean': 6966.244540905622, 'std': 1251.2106654813592, 'count': 10}, 4: {'mean': 7445.229681978799, 'std': 554.7703180212015, 'count': 2}}\n",
      "{2: {'mean': 6408.0027636555515, 'std': 1008.5806527993847, 'count': 9}, 3: {'mean': 8195.88626739262, 'std': 2037.2976973824375, 'count': 5}, 5: {'mean': 7575.757575757576, 'std': 0.0, 'count': 1}}\n",
      "{3: {'mean': 11677.772648686641, 'std': 1164.2113099564785, 'count': 7}, 4: {'mean': 11118.213921641485, 'std': 58.695321233468675, 'count': 3}}\n",
      "{1: {'mean': 2874.133538039441, 'std': 174.43064872118748, 'count': 4}, 2: {'mean': 3604.54588824458, 'std': 718.1819172813347, 'count': 33}, 3: {'mean': 4675.963272449762, 'std': 1139.724491656155, 'count': 20}, 4: {'mean': 4928.532606057777, 'std': 936.2609782550071, 'count': 10}}\n"
     ]
    },
    {
     "name": "stdout",
     "output_type": "stream",
     "text": [
      "{1: {'mean': 5133.293879111827, 'std': 1040.4585511011248, 'count': 9}, 2: {'mean': 5376.764753392969, 'std': 940.2539293683719, 'count': 114}, 3: {'mean': 6139.2129399546575, 'std': 1182.0586574859085, 'count': 145}, 4: {'mean': 6462.746127334548, 'std': 1350.3205944520087, 'count': 24}, 5: {'mean': 5797.897681160006, 'std': 1209.3915232816719, 'count': 4}}\n",
      "{1: {'mean': 3195.945945945946, 'std': 0.0, 'count': 1}, 2: {'mean': 2980.300110459942, 'std': 240.74806987622512, 'count': 6}, 3: {'mean': 3677.009046693256, 'std': 568.4897414332066, 'count': 7}}\n",
      "{1: {'mean': 7556.675062972292, 'std': 0.0, 'count': 1}, 2: {'mean': 6104.475872678937, 'std': 867.7629358050074, 'count': 4}, 3: {'mean': 5840.870632537299, 'std': 558.3617721495737, 'count': 3}}\n",
      "{2: {'mean': 8517.539849533492, 'std': 29.88399409911783, 'count': 4}, 3: {'mean': 8621.066433566433, 'std': 944.6855296740544, 'count': 6}, 4: {'mean': 9166.666666666666, 'std': 0.0, 'count': 1}}\n",
      "{2: {'mean': 4329.211790848419, 'std': 1166.1042598803597, 'count': 8}, 3: {'mean': 5367.419714920858, 'std': 1586.8132900699522, 'count': 11}, 4: {'mean': 5000.0, 'std': 0.0, 'count': 2}}\n",
      "{2: {'mean': 4708.333333333334, 'std': 291.6666666666665, 'count': 2}, 3: {'mean': 4899.966766367564, 'std': 364.7021331777603, 'count': 3}, 4: {'mean': 5660.377358490566, 'std': 0.0, 'count': 1}}\n",
      "{1: {'mean': 8010.471204188481, 'std': 0.0, 'count': 1}, 2: {'mean': 8177.670428057425, 'std': 1680.2831248065638, 'count': 4}, 3: {'mean': 6164.3835616438355, 'std': 0.0, 'count': 1}}\n",
      "{2: {'mean': 4612.819625700124, 'std': 506.83386852214045, 'count': 10}, 3: {'mean': 4522.865156428246, 'std': 498.5677172187002, 'count': 7}, 4: {'mean': 4451.853329012638, 'std': 613.081735922427, 'count': 2}}\n",
      "{2: {'mean': 5360.675549919206, 'std': 593.8769277607065, 'count': 8}, 3: {'mean': 4740.491215564561, 'std': 690.4875020957893, 'count': 7}, 4: {'mean': 5833.333333333333, 'std': 0.0, 'count': 1}}\n",
      "{2: {'mean': 3840.4959109430956, 'std': 224.1921863747153, 'count': 4}, 3: {'mean': 3466.687036151407, 'std': 123.29979549236428, 'count': 3}, 4: {'mean': 3953.4883720930234, 'std': 0.0, 'count': 1}}\n",
      "{1: {'mean': 4998.3598840688865, 'std': 0.012776630869666405, 'count': 2}, 2: {'mean': 4451.776042086879, 'std': 424.19435489209496, 'count': 6}, 3: {'mean': 4706.376756380032, 'std': 441.79167132471156, 'count': 5}}\n",
      "{2: {'mean': 5320.002594928582, 'std': 564.6089957428896, 'count': 14}, 3: {'mean': 5419.591639044803, 'std': 543.0872192059437, 'count': 13}}\n",
      "{2: {'mean': 5516.726902965547, 'std': 1253.3841087551375, 'count': 5}, 3: {'mean': 6296.180318134044, 'std': 1250.8447106368387, 'count': 3}, 4: {'mean': 6500.0, 'std': 0.0, 'count': 1}}\n",
      "{1: {'mean': 4074.074074074074, 'std': 0.0, 'count': 1}, 2: {'mean': 5697.4094763372195, 'std': 619.4809937733468, 'count': 20}, 3: {'mean': 5441.915480148754, 'std': 526.2209882855493, 'count': 25}, 4: {'mean': 6291.666666666667, 'std': 0.0, 'count': 1}}\n",
      "{2: {'mean': 4580.285299806576, 'std': 455.35287836606403, 'count': 4}, 3: {'mean': 6525.339233648821, 'std': 694.1463657221601, 'count': 22}}\n",
      "{1: {'mean': 5507.90053944953, 'std': 849.6957660583143, 'count': 23}, 2: {'mean': 5577.18388838983, 'std': 859.6650172856573, 'count': 48}, 3: {'mean': 5963.98561560378, 'std': 646.7048899935486, 'count': 74}, 4: {'mean': 5809.062417390094, 'std': 821.0388724789285, 'count': 6}, 6: {'mean': 4571.428571428572, 'std': 0.0, 'count': 1}}\n",
      "{2: {'mean': 7367.662128690889, 'std': 250.42902893834392, 'count': 15}, 3: {'mean': 7195.7132993768455, 'std': 312.0510818458644, 'count': 25}, 4: {'mean': 7478.280524334292, 'std': 267.3908548713968, 'count': 11}}\n",
      "{2: {'mean': 6177.47488087532, 'std': 550.0809877574003, 'count': 11}, 3: {'mean': 6182.810245310246, 'std': 353.87655581660107, 'count': 4}, 4: {'mean': 6289.473684210527, 'std': 0.0, 'count': 1}}\n",
      "{1: {'mean': 12500.0, 'std': 0.0, 'count': 1}, 2: {'mean': 6538.461538461538, 'std': 0.0, 'count': 1}, 3: {'mean': 7500.0, 'std': 0.0, 'count': 1}, 5: {'mean': 7250.0, 'std': 0.0, 'count': 1}}\n",
      "{2: {'mean': 5123.714149465223, 'std': 97.42574991353615, 'count': 3}, 3: {'mean': 5283.565257806863, 'std': 516.6873757479673, 'count': 4}, 7: {'mean': 5333.333333333333, 'std': 0.0, 'count': 1}}\n",
      "{2: {'mean': 6222.216116265259, 'std': 565.4013168608797, 'count': 8}, 3: {'mean': 6367.716187279277, 'std': 390.8691579620035, 'count': 14}}\n",
      "{2: {'mean': 8730.998103368149, 'std': 2062.5115260500042, 'count': 5}, 3: {'mean': 9156.582905880583, 'std': 1457.6390839943092, 'count': 7}, 4: {'mean': 6800.0, 'std': 0.0, 'count': 1}}\n",
      "{1: {'mean': 5446.293494704993, 'std': 0.0, 'count': 1}, 2: {'mean': 4055.878990945823, 'std': 443.82742078600614, 'count': 75}, 3: {'mean': 4083.5276962879593, 'std': 534.1705599671546, 'count': 89}, 4: {'mean': 3333.3333333333335, 'std': 0.0, 'count': 1}, 6: {'mean': 3333.3333333333335, 'std': 0.0, 'count': 1}}\n",
      "{2: {'mean': 4331.910572925388, 'std': 847.3795043583863, 'count': 32}, 3: {'mean': 4836.478103600665, 'std': 892.2656889001147, 'count': 14}}\n",
      "{2: {'mean': 3754.9654055540996, 'std': 648.3927903937736, 'count': 7}, 3: {'mean': 3800.411985861906, 'std': 850.7508048357686, 'count': 2}}\n",
      "{2: {'mean': 3558.48776757308, 'std': 145.0953916099316, 'count': 7}}\n",
      "{2: {'mean': 4639.399867778706, 'std': 870.5642061348253, 'count': 16}, 3: {'mean': 5418.695502028836, 'std': 956.0813080374586, 'count': 6}, 4: {'mean': 6562.5, 'std': 937.5, 'count': 2}}\n",
      "{1: {'mean': 7513.33715688642, 'std': 1470.1647292081748, 'count': 4}, 2: {'mean': 5936.626849748775, 'std': 879.0177188541079, 'count': 11}, 3: {'mean': 6585.510613483119, 'std': 860.4381230168186, 'count': 17}, 4: {'mean': 12000.0, 'std': 0.0, 'count': 1}, 5: {'mean': 5208.333333333333, 'std': 0.0, 'count': 1}}\n",
      "{1: {'mean': 4000.0, 'std': 0.0, 'count': 1}, 4: {'mean': 4125.0, 'std': 375.0, 'count': 2}, 6: {'mean': 4380.952380952381, 'std': 0.0, 'count': 1}}\n",
      "{2: {'mean': 3916.9969520750556, 'std': 177.84130871379733, 'count': 4}}\n",
      "{2: {'mean': 5265.466588027837, 'std': 172.6857542886576, 'count': 31}, 3: {'mean': 5113.14174326139, 'std': 100.56430016629145, 'count': 7}}\n",
      "{1: {'mean': 5823.85763491146, 'std': 1060.9803290149644, 'count': 25}, 2: {'mean': 4996.6795555450735, 'std': 1261.8095382276895, 'count': 232}, 3: {'mean': 5549.227858448838, 'std': 1332.124092736573, 'count': 162}, 4: {'mean': 6778.173907462151, 'std': 1167.5701595572734, 'count': 56}, 5: {'mean': 7836.874286815605, 'std': 794.7110211453303, 'count': 4}}\n",
      "{2: {'mean': 5157.852477694467, 'std': 706.3466043126809, 'count': 7}, 3: {'mean': 5909.760492768157, 'std': 1348.1242403302067, 'count': 5}}\n",
      "{1: {'mean': 5250.754432669085, 'std': 708.186432901746, 'count': 16}, 2: {'mean': 4885.500091507662, 'std': 834.273883093863, 'count': 78}, 3: {'mean': 5137.394034420603, 'std': 815.9660958569577, 'count': 64}, 4: {'mean': 5446.394349651004, 'std': 899.0433372186512, 'count': 8}, 5: {'mean': 5150.0, 'std': 350.0, 'count': 2}, 6: {'mean': 5555.555555555556, 'std': 0.0, 'count': 1}}\n",
      "{1: {'mean': 3711.0711616859157, 'std': 705.7257959858678, 'count': 12}, 2: {'mean': 5255.289619148657, 'std': 1329.2576472001515, 'count': 7}, 3: {'mean': 5244.8328585493755, 'std': 1308.1039897883682, 'count': 12}, 4: {'mean': 5202.863961813842, 'std': 0.0, 'count': 1}}\n",
      "{2: {'mean': 3878.617021276596, 'std': 155.17896357207565, 'count': 7}, 3: {'mean': 3918.9457070707067, 'std': 143.76151982471873, 'count': 3}}\n",
      "{1: {'mean': 5660.6482445723395, 'std': 397.8138955809522, 'count': 13}, 2: {'mean': 6313.582176150229, 'std': 1092.0986164191115, 'count': 23}, 3: {'mean': 6136.843144871886, 'std': 999.1342919214298, 'count': 31}, 4: {'mean': 6388.888888888889, 'std': 277.7777777777778, 'count': 2}, 6: {'mean': 7400.0, 'std': 0.0, 'count': 1}}\n",
      "{1: {'mean': 5321.358826419816, 'std': 2357.7059009960285, 'count': 132}, 2: {'mean': 5293.297542164921, 'std': 1980.8114615403324, 'count': 984}, 3: {'mean': 6303.178181413835, 'std': 2552.0634251169126, 'count': 858}, 4: {'mean': 8334.159251776742, 'std': 2892.9656869519777, 'count': 224}, 5: {'mean': 7187.851183160372, 'std': 3384.458343154111, 'count': 41}, 6: {'mean': 6975.562368913401, 'std': 3043.3045406755605, 'count': 34}, 7: {'mean': 4272.049254022647, 'std': 1900.0507646394972, 'count': 11}, 8: {'mean': 5384.347002204145, 'std': 1946.6298824910634, 'count': 7}, 9: {'mean': 5530.842391304348, 'std': 3234.230886145459, 'count': 4}, 10: {'mean': 9005.681818181818, 'std': 4630.681818181818, 'count': 2}, 11: {'mean': 4850.0, 'std': 2350.0, 'count': 2}, 13: {'mean': 5069.124423963133, 'std': 0.0, 'count': 1}, 16: {'mean': 5500.0, 'std': 0.0, 'count': 1}}\n"
     ]
    }
   ],
   "source": [
    "#for understanding\n",
    "def remove_bhk_outliers(df):\n",
    "    exclude_indices = np.array([])\n",
    "    for location, location_df in df.groupby('location'):\n",
    "        bhk_stats = {}\n",
    "        for bhk, bhk_df in location_df.groupby('BHK'):\n",
    "            bhk_stats[bhk] ={ \n",
    "            'mean': np.mean(bhk_df.price_per_sqft),\n",
    "            'std': np.std(bhk_df.price_per_sqft),\n",
    "            'count': bhk_df.shape[0]\n",
    "                }\n",
    "        print(bhk_stats)\n",
    "dfn = remove_bhk_outliers(df5)"
   ]
  },
  {
   "cell_type": "code",
   "execution_count": 83,
   "id": "f9d38048",
   "metadata": {},
   "outputs": [
    {
     "data": {
      "text/plain": [
       "(7329, 6)"
      ]
     },
     "execution_count": 83,
     "metadata": {},
     "output_type": "execute_result"
    }
   ],
   "source": [
    "def remove_bhk_outliers(df):\n",
    "    exclude_indices = np.array([])\n",
    "    for location, location_df in df.groupby('location'):\n",
    "        bhk_stats = {}\n",
    "        for bhk, bhk_df in location_df.groupby('BHK'):\n",
    "            bhk_stats[bhk] = { \n",
    "            'mean': np.mean(bhk_df.price_per_sqft),\n",
    "            'std': np.std(bhk_df.price_per_sqft),\n",
    "            'count': bhk_df.shape[0]\n",
    "                }\n",
    "        for bhk, bhk_df in location_df.groupby('BHK'):\n",
    "            stats = bhk_stats.get(bhk-1) #gives us complete mean, std, count infor of element before the present one\n",
    "            if stats and stats['count'] > 5:\n",
    "                exclude_indices = np.append(exclude_indices, bhk_df[bhk_df.price_per_sqft<(stats['mean'])].index.values)\n",
    "    return df.drop(exclude_indices, axis='index')\n",
    "df6 = remove_bhk_outliers(df5)\n",
    "df6.shape"
   ]
  },
  {
   "cell_type": "code",
   "execution_count": 84,
   "id": "7f0830ae",
   "metadata": {},
   "outputs": [
    {
     "data": {
      "image/png": "[encoded data removed]",
      "text/plain": [
       "<Figure size 2000x1000 with 1 Axes>"
      ]
     },
     "metadata": {},
     "output_type": "display_data"
    }
   ],
   "source": [
    "#Checking again\n",
    "def plot_scatter_chart(df, location):\n",
    "    bhk2 = df[(df.location == location) & (df.BHK == 2)]\n",
    "    bhk3 = df[(df.location == location) & (df.BHK == 3)]\n",
    "    #matplotlib.rcParams['figure,figsize'] = (15,10)\n",
    "    plt.scatter(bhk2.total_sqft, bhk2.price, color=\"blue\", label = '2bhk', s=50)\n",
    "    plt.scatter(bhk3.total_sqft, bhk3.price, marker='+', color=\"green\", label = '3bhk', s=50)\n",
    "    plt.xlabel(\"Total sq feet area\")\n",
    "    plt.ylabel(\"Price\")\n",
    "    plt.title(location)\n",
    "    plt.legend()\n",
    "    \n",
    "plot_scatter_chart(df6, \"Hebbal\")"
   ]
  },
  {
   "cell_type": "code",
   "execution_count": 85,
   "id": "a8d59a8f",
   "metadata": {},
   "outputs": [
    {
     "data": {
      "text/plain": [
       "Text(0, 0.5, 'Count')"
      ]
     },
     "execution_count": 85,
     "metadata": {},
     "output_type": "execute_result"
    },
    {
     "data": {
      "image/png": "[encoded data removed]",
      "text/plain": [
       "<Figure size 2000x1000 with 1 Axes>"
      ]
     },
     "metadata": {},
     "output_type": "display_data"
    }
   ],
   "source": [
    "import matplotlib\n",
    "matplotlib.rcParams['figure.figsize'] = (20, 10)\n",
    "plt.hist(df6.price_per_sqft, rwidth = 0.8)\n",
    "plt.xlabel('Price Per Square Feet')\n",
    "plt.ylabel(\"Count\")\n",
    "#like a bell curve. Majority of data points lie between 0-10000"
   ]
  },
  {
   "cell_type": "code",
   "execution_count": 86,
   "id": "5bc9544c",
   "metadata": {},
   "outputs": [
    {
     "data": {
      "text/plain": [
       "array([ 4.,  3.,  2.,  5.,  8.,  1.,  6.,  7.,  9., 12., 16., 13.])"
      ]
     },
     "execution_count": 86,
     "metadata": {},
     "output_type": "execute_result"
    }
   ],
   "source": [
    "df6.bath.unique()"
   ]
  },
  {
   "cell_type": "code",
   "execution_count": 87,
   "id": "ea47137f",
   "metadata": {},
   "outputs": [
    {
     "data": {
      "text/html": [
       "<div>\n",
       "<style scoped>\n",
       "    .dataframe tbody tr th:only-of-type {\n",
       "        vertical-align: middle;\n",
       "    }\n",
       "\n",
       "    .dataframe tbody tr th {\n",
       "        vertical-align: top;\n",
       "    }\n",
       "\n",
       "    .dataframe thead th {\n",
       "        text-align: right;\n",
       "    }\n",
       "</style>\n",
       "<table border=\"1\" class=\"dataframe\">\n",
       "  <thead>\n",
       "    <tr style=\"text-align: right;\">\n",
       "      <th></th>\n",
       "      <th>location</th>\n",
       "      <th>total_sqft</th>\n",
       "      <th>bath</th>\n",
       "      <th>price</th>\n",
       "      <th>BHK</th>\n",
       "      <th>price_per_sqft</th>\n",
       "    </tr>\n",
       "  </thead>\n",
       "  <tbody>\n",
       "    <tr>\n",
       "      <th>5277</th>\n",
       "      <td>Neeladri Nagar</td>\n",
       "      <td>4000.0</td>\n",
       "      <td>12.0</td>\n",
       "      <td>160.0</td>\n",
       "      <td>10</td>\n",
       "      <td>4000.000000</td>\n",
       "    </tr>\n",
       "    <tr>\n",
       "      <th>8486</th>\n",
       "      <td>other</td>\n",
       "      <td>12000.0</td>\n",
       "      <td>12.0</td>\n",
       "      <td>525.0</td>\n",
       "      <td>10</td>\n",
       "      <td>4375.000000</td>\n",
       "    </tr>\n",
       "    <tr>\n",
       "      <th>8575</th>\n",
       "      <td>other</td>\n",
       "      <td>10000.0</td>\n",
       "      <td>16.0</td>\n",
       "      <td>550.0</td>\n",
       "      <td>16</td>\n",
       "      <td>5500.000000</td>\n",
       "    </tr>\n",
       "    <tr>\n",
       "      <th>9308</th>\n",
       "      <td>other</td>\n",
       "      <td>6000.0</td>\n",
       "      <td>12.0</td>\n",
       "      <td>150.0</td>\n",
       "      <td>11</td>\n",
       "      <td>2500.000000</td>\n",
       "    </tr>\n",
       "    <tr>\n",
       "      <th>9639</th>\n",
       "      <td>other</td>\n",
       "      <td>5425.0</td>\n",
       "      <td>13.0</td>\n",
       "      <td>275.0</td>\n",
       "      <td>13</td>\n",
       "      <td>5069.124424</td>\n",
       "    </tr>\n",
       "  </tbody>\n",
       "</table>\n",
       "</div>"
      ],
      "text/plain": [
       "            location  total_sqft  bath  price  BHK  price_per_sqft\n",
       "5277  Neeladri Nagar      4000.0  12.0  160.0   10     4000.000000\n",
       "8486           other     12000.0  12.0  525.0   10     4375.000000\n",
       "8575           other     10000.0  16.0  550.0   16     5500.000000\n",
       "9308           other      6000.0  12.0  150.0   11     2500.000000\n",
       "9639           other      5425.0  13.0  275.0   13     5069.124424"
      ]
     },
     "execution_count": 87,
     "metadata": {},
     "output_type": "execute_result"
    }
   ],
   "source": [
    "df6[df6.bath > 10]"
   ]
  },
  {
   "cell_type": "code",
   "execution_count": 88,
   "id": "03ccbd57",
   "metadata": {},
   "outputs": [
    {
     "data": {
      "text/plain": [
       "(7251, 6)"
      ]
     },
     "execution_count": 88,
     "metadata": {},
     "output_type": "execute_result"
    }
   ],
   "source": [
    "df7 = df6[df6.bath < df6.BHK + 2]\n",
    "df7.shape"
   ]
  },
  {
   "cell_type": "code",
   "execution_count": 89,
   "id": "69b164f2",
   "metadata": {},
   "outputs": [
    {
     "data": {
      "text/html": [
       "<div>\n",
       "<style scoped>\n",
       "    .dataframe tbody tr th:only-of-type {\n",
       "        vertical-align: middle;\n",
       "    }\n",
       "\n",
       "    .dataframe tbody tr th {\n",
       "        vertical-align: top;\n",
       "    }\n",
       "\n",
       "    .dataframe thead th {\n",
       "        text-align: right;\n",
       "    }\n",
       "</style>\n",
       "<table border=\"1\" class=\"dataframe\">\n",
       "  <thead>\n",
       "    <tr style=\"text-align: right;\">\n",
       "      <th></th>\n",
       "      <th>location</th>\n",
       "      <th>total_sqft</th>\n",
       "      <th>bath</th>\n",
       "      <th>price</th>\n",
       "      <th>BHK</th>\n",
       "      <th>price_per_sqft</th>\n",
       "    </tr>\n",
       "  </thead>\n",
       "  <tbody>\n",
       "    <tr>\n",
       "      <th>0</th>\n",
       "      <td>1st Block Jayanagar</td>\n",
       "      <td>2850.0</td>\n",
       "      <td>4.0</td>\n",
       "      <td>428.0</td>\n",
       "      <td>4</td>\n",
       "      <td>15017.543860</td>\n",
       "    </tr>\n",
       "    <tr>\n",
       "      <th>1</th>\n",
       "      <td>1st Block Jayanagar</td>\n",
       "      <td>1630.0</td>\n",
       "      <td>3.0</td>\n",
       "      <td>194.0</td>\n",
       "      <td>3</td>\n",
       "      <td>11901.840491</td>\n",
       "    </tr>\n",
       "    <tr>\n",
       "      <th>2</th>\n",
       "      <td>1st Block Jayanagar</td>\n",
       "      <td>1875.0</td>\n",
       "      <td>2.0</td>\n",
       "      <td>235.0</td>\n",
       "      <td>3</td>\n",
       "      <td>12533.333333</td>\n",
       "    </tr>\n",
       "    <tr>\n",
       "      <th>3</th>\n",
       "      <td>1st Block Jayanagar</td>\n",
       "      <td>1200.0</td>\n",
       "      <td>2.0</td>\n",
       "      <td>130.0</td>\n",
       "      <td>3</td>\n",
       "      <td>10833.333333</td>\n",
       "    </tr>\n",
       "    <tr>\n",
       "      <th>4</th>\n",
       "      <td>1st Block Jayanagar</td>\n",
       "      <td>1235.0</td>\n",
       "      <td>2.0</td>\n",
       "      <td>148.0</td>\n",
       "      <td>2</td>\n",
       "      <td>11983.805668</td>\n",
       "    </tr>\n",
       "  </tbody>\n",
       "</table>\n",
       "</div>"
      ],
      "text/plain": [
       "              location  total_sqft  bath  price  BHK  price_per_sqft\n",
       "0  1st Block Jayanagar      2850.0   4.0  428.0    4    15017.543860\n",
       "1  1st Block Jayanagar      1630.0   3.0  194.0    3    11901.840491\n",
       "2  1st Block Jayanagar      1875.0   2.0  235.0    3    12533.333333\n",
       "3  1st Block Jayanagar      1200.0   2.0  130.0    3    10833.333333\n",
       "4  1st Block Jayanagar      1235.0   2.0  148.0    2    11983.805668"
      ]
     },
     "execution_count": 89,
     "metadata": {},
     "output_type": "execute_result"
    }
   ],
   "source": [
    "df7.head()"
   ]
  },
  {
   "cell_type": "code",
   "execution_count": 94,
   "id": "a0b14037",
   "metadata": {},
   "outputs": [
    {
     "data": {
      "text/plain": [
       "(7251, 5)"
      ]
     },
     "execution_count": 94,
     "metadata": {},
     "output_type": "execute_result"
    }
   ],
   "source": [
    "#droppping price_per_sqft as it was used for outliers only\n",
    "df7 = df7.drop(columns = 'price_per_sqft')\n",
    "df7.shape"
   ]
  },
  {
   "cell_type": "code",
   "execution_count": null,
   "id": "13196e62",
   "metadata": {},
   "outputs": [],
   "source": []
  }
 ],
 "metadata": {
  "kernelspec": {
   "display_name": "Python 3 (ipykernel)",
   "language": "python",
   "name": "python3"
  },
  "language_info": {
   "codemirror_mode": {
    "name": "ipython",
    "version": 3
   },
   "file_extension": ".py",
   "mimetype": "text/x-python",
   "name": "python",
   "nbconvert_exporter": "python",
   "pygments_lexer": "ipython3",
   "version": "3.9.13"
  }
 },
 "nbformat": 4,
 "nbformat_minor": 5
}
